{
  "nbformat": 4,
  "nbformat_minor": 0,
  "metadata": {
    "colab": {
      "provenance": [],
      "authorship_tag": "ABX9TyPJ6OH6UczGx8MDH7Znmumh",
      "include_colab_link": true
    },
    "kernelspec": {
      "name": "python3",
      "display_name": "Python 3"
    },
    "language_info": {
      "name": "python"
    }
  },
  "cells": [
    {
      "cell_type": "markdown",
      "metadata": {
        "id": "view-in-github",
        "colab_type": "text"
      },
      "source": [
        "<a href=\"https://colab.research.google.com/github/Ujwala76/ML/blob/main/Comcast_01.ipynb\" target=\"_parent\"><img src=\"https://colab.research.google.com/assets/colab-badge.svg\" alt=\"Open In Colab\"/></a>"
      ]
    },
    {
      "cell_type": "code",
      "execution_count": 1,
      "metadata": {
        "colab": {
          "base_uri": "https://localhost:8080/"
        },
        "id": "isAd4SsXv09w",
        "outputId": "08745e58-bcbf-40cc-d60a-5f29a6f3c2ce"
      },
      "outputs": [
        {
          "output_type": "stream",
          "name": "stdout",
          "text": [
            "Cloning into 'ML'...\n",
            "remote: Enumerating objects: 9, done.\u001b[K\n",
            "remote: Counting objects: 100% (9/9), done.\u001b[K\n",
            "remote: Compressing objects: 100% (7/7), done.\u001b[K\n",
            "remote: Total 9 (delta 1), reused 0 (delta 0), pack-reused 0\u001b[K\n",
            "Unpacking objects: 100% (9/9), done.\n"
          ]
        }
      ],
      "source": [
        "!git clone https://github.com/Ujwala76/ML\n"
      ]
    },
    {
      "cell_type": "code",
      "source": [
        "import pandas as pd\n",
        "import numpy as np\n",
        "import matplotlib.pyplot as plt\n",
        "import seaborn as sns\n",
        "df=pd.read_csv(\"ML/Comcast.csv\")"
      ],
      "metadata": {
        "id": "fpCBg8FSv5xP"
      },
      "execution_count": 21,
      "outputs": []
    },
    {
      "cell_type": "code",
      "source": [
        "df.head()"
      ],
      "metadata": {
        "colab": {
          "base_uri": "https://localhost:8080/",
          "height": 424
        },
        "id": "y7Thkj0swOKa",
        "outputId": "52a0306b-3279-45b7-cc3c-0d2e1a67577d"
      },
      "execution_count": 22,
      "outputs": [
        {
          "output_type": "execute_result",
          "data": {
            "text/plain": [
              "  Ticket #                                 Customer Complaint      Date  \\\n",
              "0   250635                      Comcast Cable Internet Speeds  22-04-15   \n",
              "1   223441       Payment disappear - service got disconnected  04-08-15   \n",
              "2   242732                                  Speed and Service  18-04-15   \n",
              "3   277946  Comcast Imposed a New Usage Cap of 300GB that ...  05-07-15   \n",
              "4   307175         Comcast not working and no service to boot  26-05-15   \n",
              "\n",
              "  Date_month_year         Time        Received Via      City     State  \\\n",
              "0       22-Apr-15   3:53:50 PM  Customer Care Call  Abingdon  Maryland   \n",
              "1       04-Aug-15  10:22:56 AM            Internet   Acworth   Georgia   \n",
              "2       18-Apr-15   9:55:47 AM            Internet   Acworth   Georgia   \n",
              "3       05-Jul-15  11:59:35 AM            Internet   Acworth   Georgia   \n",
              "4       26-May-15   1:25:26 PM            Internet   Acworth   Georgia   \n",
              "\n",
              "   Zip code  Status Filing on Behalf of Someone  \n",
              "0     21009  Closed                          No  \n",
              "1     30102  Closed                          No  \n",
              "2     30101  Closed                         Yes  \n",
              "3     30101    Open                         Yes  \n",
              "4     30101  Solved                          No  "
            ],
            "text/html": [
              "\n",
              "  <div id=\"df-828defeb-f86b-4cb2-ae54-74c37a728ce0\">\n",
              "    <div class=\"colab-df-container\">\n",
              "      <div>\n",
              "<style scoped>\n",
              "    .dataframe tbody tr th:only-of-type {\n",
              "        vertical-align: middle;\n",
              "    }\n",
              "\n",
              "    .dataframe tbody tr th {\n",
              "        vertical-align: top;\n",
              "    }\n",
              "\n",
              "    .dataframe thead th {\n",
              "        text-align: right;\n",
              "    }\n",
              "</style>\n",
              "<table border=\"1\" class=\"dataframe\">\n",
              "  <thead>\n",
              "    <tr style=\"text-align: right;\">\n",
              "      <th></th>\n",
              "      <th>Ticket #</th>\n",
              "      <th>Customer Complaint</th>\n",
              "      <th>Date</th>\n",
              "      <th>Date_month_year</th>\n",
              "      <th>Time</th>\n",
              "      <th>Received Via</th>\n",
              "      <th>City</th>\n",
              "      <th>State</th>\n",
              "      <th>Zip code</th>\n",
              "      <th>Status</th>\n",
              "      <th>Filing on Behalf of Someone</th>\n",
              "    </tr>\n",
              "  </thead>\n",
              "  <tbody>\n",
              "    <tr>\n",
              "      <th>0</th>\n",
              "      <td>250635</td>\n",
              "      <td>Comcast Cable Internet Speeds</td>\n",
              "      <td>22-04-15</td>\n",
              "      <td>22-Apr-15</td>\n",
              "      <td>3:53:50 PM</td>\n",
              "      <td>Customer Care Call</td>\n",
              "      <td>Abingdon</td>\n",
              "      <td>Maryland</td>\n",
              "      <td>21009</td>\n",
              "      <td>Closed</td>\n",
              "      <td>No</td>\n",
              "    </tr>\n",
              "    <tr>\n",
              "      <th>1</th>\n",
              "      <td>223441</td>\n",
              "      <td>Payment disappear - service got disconnected</td>\n",
              "      <td>04-08-15</td>\n",
              "      <td>04-Aug-15</td>\n",
              "      <td>10:22:56 AM</td>\n",
              "      <td>Internet</td>\n",
              "      <td>Acworth</td>\n",
              "      <td>Georgia</td>\n",
              "      <td>30102</td>\n",
              "      <td>Closed</td>\n",
              "      <td>No</td>\n",
              "    </tr>\n",
              "    <tr>\n",
              "      <th>2</th>\n",
              "      <td>242732</td>\n",
              "      <td>Speed and Service</td>\n",
              "      <td>18-04-15</td>\n",
              "      <td>18-Apr-15</td>\n",
              "      <td>9:55:47 AM</td>\n",
              "      <td>Internet</td>\n",
              "      <td>Acworth</td>\n",
              "      <td>Georgia</td>\n",
              "      <td>30101</td>\n",
              "      <td>Closed</td>\n",
              "      <td>Yes</td>\n",
              "    </tr>\n",
              "    <tr>\n",
              "      <th>3</th>\n",
              "      <td>277946</td>\n",
              "      <td>Comcast Imposed a New Usage Cap of 300GB that ...</td>\n",
              "      <td>05-07-15</td>\n",
              "      <td>05-Jul-15</td>\n",
              "      <td>11:59:35 AM</td>\n",
              "      <td>Internet</td>\n",
              "      <td>Acworth</td>\n",
              "      <td>Georgia</td>\n",
              "      <td>30101</td>\n",
              "      <td>Open</td>\n",
              "      <td>Yes</td>\n",
              "    </tr>\n",
              "    <tr>\n",
              "      <th>4</th>\n",
              "      <td>307175</td>\n",
              "      <td>Comcast not working and no service to boot</td>\n",
              "      <td>26-05-15</td>\n",
              "      <td>26-May-15</td>\n",
              "      <td>1:25:26 PM</td>\n",
              "      <td>Internet</td>\n",
              "      <td>Acworth</td>\n",
              "      <td>Georgia</td>\n",
              "      <td>30101</td>\n",
              "      <td>Solved</td>\n",
              "      <td>No</td>\n",
              "    </tr>\n",
              "  </tbody>\n",
              "</table>\n",
              "</div>\n",
              "      <button class=\"colab-df-convert\" onclick=\"convertToInteractive('df-828defeb-f86b-4cb2-ae54-74c37a728ce0')\"\n",
              "              title=\"Convert this dataframe to an interactive table.\"\n",
              "              style=\"display:none;\">\n",
              "        \n",
              "  <svg xmlns=\"http://www.w3.org/2000/svg\" height=\"24px\"viewBox=\"0 0 24 24\"\n",
              "       width=\"24px\">\n",
              "    <path d=\"M0 0h24v24H0V0z\" fill=\"none\"/>\n",
              "    <path d=\"M18.56 5.44l.94 2.06.94-2.06 2.06-.94-2.06-.94-.94-2.06-.94 2.06-2.06.94zm-11 1L8.5 8.5l.94-2.06 2.06-.94-2.06-.94L8.5 2.5l-.94 2.06-2.06.94zm10 10l.94 2.06.94-2.06 2.06-.94-2.06-.94-.94-2.06-.94 2.06-2.06.94z\"/><path d=\"M17.41 7.96l-1.37-1.37c-.4-.4-.92-.59-1.43-.59-.52 0-1.04.2-1.43.59L10.3 9.45l-7.72 7.72c-.78.78-.78 2.05 0 2.83L4 21.41c.39.39.9.59 1.41.59.51 0 1.02-.2 1.41-.59l7.78-7.78 2.81-2.81c.8-.78.8-2.07 0-2.86zM5.41 20L4 18.59l7.72-7.72 1.47 1.35L5.41 20z\"/>\n",
              "  </svg>\n",
              "      </button>\n",
              "      \n",
              "  <style>\n",
              "    .colab-df-container {\n",
              "      display:flex;\n",
              "      flex-wrap:wrap;\n",
              "      gap: 12px;\n",
              "    }\n",
              "\n",
              "    .colab-df-convert {\n",
              "      background-color: #E8F0FE;\n",
              "      border: none;\n",
              "      border-radius: 50%;\n",
              "      cursor: pointer;\n",
              "      display: none;\n",
              "      fill: #1967D2;\n",
              "      height: 32px;\n",
              "      padding: 0 0 0 0;\n",
              "      width: 32px;\n",
              "    }\n",
              "\n",
              "    .colab-df-convert:hover {\n",
              "      background-color: #E2EBFA;\n",
              "      box-shadow: 0px 1px 2px rgba(60, 64, 67, 0.3), 0px 1px 3px 1px rgba(60, 64, 67, 0.15);\n",
              "      fill: #174EA6;\n",
              "    }\n",
              "\n",
              "    [theme=dark] .colab-df-convert {\n",
              "      background-color: #3B4455;\n",
              "      fill: #D2E3FC;\n",
              "    }\n",
              "\n",
              "    [theme=dark] .colab-df-convert:hover {\n",
              "      background-color: #434B5C;\n",
              "      box-shadow: 0px 1px 3px 1px rgba(0, 0, 0, 0.15);\n",
              "      filter: drop-shadow(0px 1px 2px rgba(0, 0, 0, 0.3));\n",
              "      fill: #FFFFFF;\n",
              "    }\n",
              "  </style>\n",
              "\n",
              "      <script>\n",
              "        const buttonEl =\n",
              "          document.querySelector('#df-828defeb-f86b-4cb2-ae54-74c37a728ce0 button.colab-df-convert');\n",
              "        buttonEl.style.display =\n",
              "          google.colab.kernel.accessAllowed ? 'block' : 'none';\n",
              "\n",
              "        async function convertToInteractive(key) {\n",
              "          const element = document.querySelector('#df-828defeb-f86b-4cb2-ae54-74c37a728ce0');\n",
              "          const dataTable =\n",
              "            await google.colab.kernel.invokeFunction('convertToInteractive',\n",
              "                                                     [key], {});\n",
              "          if (!dataTable) return;\n",
              "\n",
              "          const docLinkHtml = 'Like what you see? Visit the ' +\n",
              "            '<a target=\"_blank\" href=https://colab.research.google.com/notebooks/data_table.ipynb>data table notebook</a>'\n",
              "            + ' to learn more about interactive tables.';\n",
              "          element.innerHTML = '';\n",
              "          dataTable['output_type'] = 'display_data';\n",
              "          await google.colab.output.renderOutput(dataTable, element);\n",
              "          const docLink = document.createElement('div');\n",
              "          docLink.innerHTML = docLinkHtml;\n",
              "          element.appendChild(docLink);\n",
              "        }\n",
              "      </script>\n",
              "    </div>\n",
              "  </div>\n",
              "  "
            ]
          },
          "metadata": {},
          "execution_count": 22
        }
      ]
    },
    {
      "cell_type": "code",
      "source": [
        "df.info()"
      ],
      "metadata": {
        "colab": {
          "base_uri": "https://localhost:8080/"
        },
        "id": "PiaSnNFbwQ3r",
        "outputId": "e83ad95e-c55a-47da-dbee-dec0c9e86aed"
      },
      "execution_count": 23,
      "outputs": [
        {
          "output_type": "stream",
          "name": "stdout",
          "text": [
            "<class 'pandas.core.frame.DataFrame'>\n",
            "RangeIndex: 2224 entries, 0 to 2223\n",
            "Data columns (total 11 columns):\n",
            " #   Column                       Non-Null Count  Dtype \n",
            "---  ------                       --------------  ----- \n",
            " 0   Ticket #                     2224 non-null   object\n",
            " 1   Customer Complaint           2224 non-null   object\n",
            " 2   Date                         2224 non-null   object\n",
            " 3   Date_month_year              2224 non-null   object\n",
            " 4   Time                         2224 non-null   object\n",
            " 5   Received Via                 2224 non-null   object\n",
            " 6   City                         2224 non-null   object\n",
            " 7   State                        2224 non-null   object\n",
            " 8   Zip code                     2224 non-null   int64 \n",
            " 9   Status                       2224 non-null   object\n",
            " 10  Filing on Behalf of Someone  2224 non-null   object\n",
            "dtypes: int64(1), object(10)\n",
            "memory usage: 191.2+ KB\n"
          ]
        }
      ]
    },
    {
      "cell_type": "code",
      "source": [
        "df['Date']=pd.to_datetime(df['Date'])\n",
        "df['Date'].head(4)\n"
      ],
      "metadata": {
        "colab": {
          "base_uri": "https://localhost:8080/"
        },
        "id": "7AS5fTqHwieY",
        "outputId": "457429de-4610-4a08-b81e-6530f342fc9c"
      },
      "execution_count": 24,
      "outputs": [
        {
          "output_type": "execute_result",
          "data": {
            "text/plain": [
              "0   2015-04-22\n",
              "1   2015-04-08\n",
              "2   2015-04-18\n",
              "3   2015-05-07\n",
              "Name: Date, dtype: datetime64[ns]"
            ]
          },
          "metadata": {},
          "execution_count": 24
        }
      ]
    },
    {
      "cell_type": "code",
      "source": [
        "df.info() "
      ],
      "metadata": {
        "colab": {
          "base_uri": "https://localhost:8080/"
        },
        "id": "GOiC2IkgwlZe",
        "outputId": "a26d6de0-0080-4c80-f459-a4bb67a4a60c"
      },
      "execution_count": 25,
      "outputs": [
        {
          "output_type": "stream",
          "name": "stdout",
          "text": [
            "<class 'pandas.core.frame.DataFrame'>\n",
            "RangeIndex: 2224 entries, 0 to 2223\n",
            "Data columns (total 11 columns):\n",
            " #   Column                       Non-Null Count  Dtype         \n",
            "---  ------                       --------------  -----         \n",
            " 0   Ticket #                     2224 non-null   object        \n",
            " 1   Customer Complaint           2224 non-null   object        \n",
            " 2   Date                         2224 non-null   datetime64[ns]\n",
            " 3   Date_month_year              2224 non-null   object        \n",
            " 4   Time                         2224 non-null   object        \n",
            " 5   Received Via                 2224 non-null   object        \n",
            " 6   City                         2224 non-null   object        \n",
            " 7   State                        2224 non-null   object        \n",
            " 8   Zip code                     2224 non-null   int64         \n",
            " 9   Status                       2224 non-null   object        \n",
            " 10  Filing on Behalf of Someone  2224 non-null   object        \n",
            "dtypes: datetime64[ns](1), int64(1), object(9)\n",
            "memory usage: 191.2+ KB\n"
          ]
        }
      ]
    },
    {
      "cell_type": "code",
      "source": [
        "#get the month using data\n",
        "df['month']=df['Date'].dt.month_name()\n",
        "df['month'].head(2)"
      ],
      "metadata": {
        "colab": {
          "base_uri": "https://localhost:8080/"
        },
        "id": "i1RQbm9Xw87T",
        "outputId": "51923945-b00b-42bf-b36c-4d13b7f2771d"
      },
      "execution_count": 26,
      "outputs": [
        {
          "output_type": "execute_result",
          "data": {
            "text/plain": [
              "0    April\n",
              "1    April\n",
              "Name: month, dtype: object"
            ]
          },
          "metadata": {},
          "execution_count": 26
        }
      ]
    },
    {
      "cell_type": "code",
      "source": [
        "df.head()"
      ],
      "metadata": {
        "colab": {
          "base_uri": "https://localhost:8080/",
          "height": 493
        },
        "id": "xhNcxHMmxBsk",
        "outputId": "049ef262-21db-462a-dcd3-6883a42d548e"
      },
      "execution_count": 27,
      "outputs": [
        {
          "output_type": "execute_result",
          "data": {
            "text/plain": [
              "  Ticket #                                 Customer Complaint       Date  \\\n",
              "0   250635                      Comcast Cable Internet Speeds 2015-04-22   \n",
              "1   223441       Payment disappear - service got disconnected 2015-04-08   \n",
              "2   242732                                  Speed and Service 2015-04-18   \n",
              "3   277946  Comcast Imposed a New Usage Cap of 300GB that ... 2015-05-07   \n",
              "4   307175         Comcast not working and no service to boot 2015-05-26   \n",
              "\n",
              "  Date_month_year         Time        Received Via      City     State  \\\n",
              "0       22-Apr-15   3:53:50 PM  Customer Care Call  Abingdon  Maryland   \n",
              "1       04-Aug-15  10:22:56 AM            Internet   Acworth   Georgia   \n",
              "2       18-Apr-15   9:55:47 AM            Internet   Acworth   Georgia   \n",
              "3       05-Jul-15  11:59:35 AM            Internet   Acworth   Georgia   \n",
              "4       26-May-15   1:25:26 PM            Internet   Acworth   Georgia   \n",
              "\n",
              "   Zip code  Status Filing on Behalf of Someone  month  \n",
              "0     21009  Closed                          No  April  \n",
              "1     30102  Closed                          No  April  \n",
              "2     30101  Closed                         Yes  April  \n",
              "3     30101    Open                         Yes    May  \n",
              "4     30101  Solved                          No    May  "
            ],
            "text/html": [
              "\n",
              "  <div id=\"df-d34deb6d-cbe5-4596-a967-b527a1e4f4a0\">\n",
              "    <div class=\"colab-df-container\">\n",
              "      <div>\n",
              "<style scoped>\n",
              "    .dataframe tbody tr th:only-of-type {\n",
              "        vertical-align: middle;\n",
              "    }\n",
              "\n",
              "    .dataframe tbody tr th {\n",
              "        vertical-align: top;\n",
              "    }\n",
              "\n",
              "    .dataframe thead th {\n",
              "        text-align: right;\n",
              "    }\n",
              "</style>\n",
              "<table border=\"1\" class=\"dataframe\">\n",
              "  <thead>\n",
              "    <tr style=\"text-align: right;\">\n",
              "      <th></th>\n",
              "      <th>Ticket #</th>\n",
              "      <th>Customer Complaint</th>\n",
              "      <th>Date</th>\n",
              "      <th>Date_month_year</th>\n",
              "      <th>Time</th>\n",
              "      <th>Received Via</th>\n",
              "      <th>City</th>\n",
              "      <th>State</th>\n",
              "      <th>Zip code</th>\n",
              "      <th>Status</th>\n",
              "      <th>Filing on Behalf of Someone</th>\n",
              "      <th>month</th>\n",
              "    </tr>\n",
              "  </thead>\n",
              "  <tbody>\n",
              "    <tr>\n",
              "      <th>0</th>\n",
              "      <td>250635</td>\n",
              "      <td>Comcast Cable Internet Speeds</td>\n",
              "      <td>2015-04-22</td>\n",
              "      <td>22-Apr-15</td>\n",
              "      <td>3:53:50 PM</td>\n",
              "      <td>Customer Care Call</td>\n",
              "      <td>Abingdon</td>\n",
              "      <td>Maryland</td>\n",
              "      <td>21009</td>\n",
              "      <td>Closed</td>\n",
              "      <td>No</td>\n",
              "      <td>April</td>\n",
              "    </tr>\n",
              "    <tr>\n",
              "      <th>1</th>\n",
              "      <td>223441</td>\n",
              "      <td>Payment disappear - service got disconnected</td>\n",
              "      <td>2015-04-08</td>\n",
              "      <td>04-Aug-15</td>\n",
              "      <td>10:22:56 AM</td>\n",
              "      <td>Internet</td>\n",
              "      <td>Acworth</td>\n",
              "      <td>Georgia</td>\n",
              "      <td>30102</td>\n",
              "      <td>Closed</td>\n",
              "      <td>No</td>\n",
              "      <td>April</td>\n",
              "    </tr>\n",
              "    <tr>\n",
              "      <th>2</th>\n",
              "      <td>242732</td>\n",
              "      <td>Speed and Service</td>\n",
              "      <td>2015-04-18</td>\n",
              "      <td>18-Apr-15</td>\n",
              "      <td>9:55:47 AM</td>\n",
              "      <td>Internet</td>\n",
              "      <td>Acworth</td>\n",
              "      <td>Georgia</td>\n",
              "      <td>30101</td>\n",
              "      <td>Closed</td>\n",
              "      <td>Yes</td>\n",
              "      <td>April</td>\n",
              "    </tr>\n",
              "    <tr>\n",
              "      <th>3</th>\n",
              "      <td>277946</td>\n",
              "      <td>Comcast Imposed a New Usage Cap of 300GB that ...</td>\n",
              "      <td>2015-05-07</td>\n",
              "      <td>05-Jul-15</td>\n",
              "      <td>11:59:35 AM</td>\n",
              "      <td>Internet</td>\n",
              "      <td>Acworth</td>\n",
              "      <td>Georgia</td>\n",
              "      <td>30101</td>\n",
              "      <td>Open</td>\n",
              "      <td>Yes</td>\n",
              "      <td>May</td>\n",
              "    </tr>\n",
              "    <tr>\n",
              "      <th>4</th>\n",
              "      <td>307175</td>\n",
              "      <td>Comcast not working and no service to boot</td>\n",
              "      <td>2015-05-26</td>\n",
              "      <td>26-May-15</td>\n",
              "      <td>1:25:26 PM</td>\n",
              "      <td>Internet</td>\n",
              "      <td>Acworth</td>\n",
              "      <td>Georgia</td>\n",
              "      <td>30101</td>\n",
              "      <td>Solved</td>\n",
              "      <td>No</td>\n",
              "      <td>May</td>\n",
              "    </tr>\n",
              "  </tbody>\n",
              "</table>\n",
              "</div>\n",
              "      <button class=\"colab-df-convert\" onclick=\"convertToInteractive('df-d34deb6d-cbe5-4596-a967-b527a1e4f4a0')\"\n",
              "              title=\"Convert this dataframe to an interactive table.\"\n",
              "              style=\"display:none;\">\n",
              "        \n",
              "  <svg xmlns=\"http://www.w3.org/2000/svg\" height=\"24px\"viewBox=\"0 0 24 24\"\n",
              "       width=\"24px\">\n",
              "    <path d=\"M0 0h24v24H0V0z\" fill=\"none\"/>\n",
              "    <path d=\"M18.56 5.44l.94 2.06.94-2.06 2.06-.94-2.06-.94-.94-2.06-.94 2.06-2.06.94zm-11 1L8.5 8.5l.94-2.06 2.06-.94-2.06-.94L8.5 2.5l-.94 2.06-2.06.94zm10 10l.94 2.06.94-2.06 2.06-.94-2.06-.94-.94-2.06-.94 2.06-2.06.94z\"/><path d=\"M17.41 7.96l-1.37-1.37c-.4-.4-.92-.59-1.43-.59-.52 0-1.04.2-1.43.59L10.3 9.45l-7.72 7.72c-.78.78-.78 2.05 0 2.83L4 21.41c.39.39.9.59 1.41.59.51 0 1.02-.2 1.41-.59l7.78-7.78 2.81-2.81c.8-.78.8-2.07 0-2.86zM5.41 20L4 18.59l7.72-7.72 1.47 1.35L5.41 20z\"/>\n",
              "  </svg>\n",
              "      </button>\n",
              "      \n",
              "  <style>\n",
              "    .colab-df-container {\n",
              "      display:flex;\n",
              "      flex-wrap:wrap;\n",
              "      gap: 12px;\n",
              "    }\n",
              "\n",
              "    .colab-df-convert {\n",
              "      background-color: #E8F0FE;\n",
              "      border: none;\n",
              "      border-radius: 50%;\n",
              "      cursor: pointer;\n",
              "      display: none;\n",
              "      fill: #1967D2;\n",
              "      height: 32px;\n",
              "      padding: 0 0 0 0;\n",
              "      width: 32px;\n",
              "    }\n",
              "\n",
              "    .colab-df-convert:hover {\n",
              "      background-color: #E2EBFA;\n",
              "      box-shadow: 0px 1px 2px rgba(60, 64, 67, 0.3), 0px 1px 3px 1px rgba(60, 64, 67, 0.15);\n",
              "      fill: #174EA6;\n",
              "    }\n",
              "\n",
              "    [theme=dark] .colab-df-convert {\n",
              "      background-color: #3B4455;\n",
              "      fill: #D2E3FC;\n",
              "    }\n",
              "\n",
              "    [theme=dark] .colab-df-convert:hover {\n",
              "      background-color: #434B5C;\n",
              "      box-shadow: 0px 1px 3px 1px rgba(0, 0, 0, 0.15);\n",
              "      filter: drop-shadow(0px 1px 2px rgba(0, 0, 0, 0.3));\n",
              "      fill: #FFFFFF;\n",
              "    }\n",
              "  </style>\n",
              "\n",
              "      <script>\n",
              "        const buttonEl =\n",
              "          document.querySelector('#df-d34deb6d-cbe5-4596-a967-b527a1e4f4a0 button.colab-df-convert');\n",
              "        buttonEl.style.display =\n",
              "          google.colab.kernel.accessAllowed ? 'block' : 'none';\n",
              "\n",
              "        async function convertToInteractive(key) {\n",
              "          const element = document.querySelector('#df-d34deb6d-cbe5-4596-a967-b527a1e4f4a0');\n",
              "          const dataTable =\n",
              "            await google.colab.kernel.invokeFunction('convertToInteractive',\n",
              "                                                     [key], {});\n",
              "          if (!dataTable) return;\n",
              "\n",
              "          const docLinkHtml = 'Like what you see? Visit the ' +\n",
              "            '<a target=\"_blank\" href=https://colab.research.google.com/notebooks/data_table.ipynb>data table notebook</a>'\n",
              "            + ' to learn more about interactive tables.';\n",
              "          element.innerHTML = '';\n",
              "          dataTable['output_type'] = 'display_data';\n",
              "          await google.colab.output.renderOutput(dataTable, element);\n",
              "          const docLink = document.createElement('div');\n",
              "          docLink.innerHTML = docLinkHtml;\n",
              "          element.appendChild(docLink);\n",
              "        }\n",
              "      </script>\n",
              "    </div>\n",
              "  </div>\n",
              "  "
            ]
          },
          "metadata": {},
          "execution_count": 27
        }
      ]
    },
    {
      "cell_type": "code",
      "source": [
        "#Provide the trend chart for the number of complaints daily\n",
        "df['Date'].value_counts()"
      ],
      "metadata": {
        "colab": {
          "base_uri": "https://localhost:8080/"
        },
        "id": "JnT5SWMRxE4N",
        "outputId": "4911bca0-b8be-46d6-f371-ad39bf70c866"
      },
      "execution_count": 28,
      "outputs": [
        {
          "output_type": "execute_result",
          "data": {
            "text/plain": [
              "2015-06-24    218\n",
              "2015-06-23    190\n",
              "2015-06-25     98\n",
              "2015-06-26     55\n",
              "2015-06-30     53\n",
              "             ... \n",
              "2015-05-10      7\n",
              "2015-05-24      7\n",
              "2015-04-05      6\n",
              "2015-04-11      5\n",
              "2015-05-03      5\n",
              "Name: Date, Length: 91, dtype: int64"
            ]
          },
          "metadata": {},
          "execution_count": 28
        }
      ]
    },
    {
      "cell_type": "code",
      "source": [
        "#or\n",
        "dates=df.groupby(by=['Date']).count()['Ticket #']\n",
        "dates"
      ],
      "metadata": {
        "colab": {
          "base_uri": "https://localhost:8080/"
        },
        "id": "ysmM9BbWxIzv",
        "outputId": "108c0b09-77d5-417b-cad5-ecd645382efc"
      },
      "execution_count": 29,
      "outputs": [
        {
          "output_type": "execute_result",
          "data": {
            "text/plain": [
              "Date\n",
              "2015-04-01    18\n",
              "2015-04-02    27\n",
              "2015-04-03    15\n",
              "2015-04-04    12\n",
              "2015-04-05     6\n",
              "              ..\n",
              "2015-06-26    55\n",
              "2015-06-27    39\n",
              "2015-06-28    27\n",
              "2015-06-29    51\n",
              "2015-06-30    53\n",
              "Name: Ticket #, Length: 91, dtype: int64"
            ]
          },
          "metadata": {},
          "execution_count": 29
        }
      ]
    },
    {
      "cell_type": "code",
      "source": [
        "daily=pd.DataFrame(dates).reset_index()\n",
        "\n",
        "daily.sort_values(by=['Ticket #'],ascending=False)"
      ],
      "metadata": {
        "colab": {
          "base_uri": "https://localhost:8080/",
          "height": 424
        },
        "id": "8I8K-tw1xMEf",
        "outputId": "2c8b67fb-1553-4d69-e6b3-3d4842f84dfb"
      },
      "execution_count": 30,
      "outputs": [
        {
          "output_type": "execute_result",
          "data": {
            "text/plain": [
              "         Date  Ticket #\n",
              "84 2015-06-24       218\n",
              "83 2015-06-23       190\n",
              "85 2015-06-25        98\n",
              "86 2015-06-26        55\n",
              "90 2015-06-30        53\n",
              "..        ...       ...\n",
              "46 2015-05-17         7\n",
              "41 2015-05-12         7\n",
              "4  2015-04-05         6\n",
              "10 2015-04-11         5\n",
              "32 2015-05-03         5\n",
              "\n",
              "[91 rows x 2 columns]"
            ],
            "text/html": [
              "\n",
              "  <div id=\"df-a1eca1d3-0861-491d-bfdc-72ecef21bbfd\">\n",
              "    <div class=\"colab-df-container\">\n",
              "      <div>\n",
              "<style scoped>\n",
              "    .dataframe tbody tr th:only-of-type {\n",
              "        vertical-align: middle;\n",
              "    }\n",
              "\n",
              "    .dataframe tbody tr th {\n",
              "        vertical-align: top;\n",
              "    }\n",
              "\n",
              "    .dataframe thead th {\n",
              "        text-align: right;\n",
              "    }\n",
              "</style>\n",
              "<table border=\"1\" class=\"dataframe\">\n",
              "  <thead>\n",
              "    <tr style=\"text-align: right;\">\n",
              "      <th></th>\n",
              "      <th>Date</th>\n",
              "      <th>Ticket #</th>\n",
              "    </tr>\n",
              "  </thead>\n",
              "  <tbody>\n",
              "    <tr>\n",
              "      <th>84</th>\n",
              "      <td>2015-06-24</td>\n",
              "      <td>218</td>\n",
              "    </tr>\n",
              "    <tr>\n",
              "      <th>83</th>\n",
              "      <td>2015-06-23</td>\n",
              "      <td>190</td>\n",
              "    </tr>\n",
              "    <tr>\n",
              "      <th>85</th>\n",
              "      <td>2015-06-25</td>\n",
              "      <td>98</td>\n",
              "    </tr>\n",
              "    <tr>\n",
              "      <th>86</th>\n",
              "      <td>2015-06-26</td>\n",
              "      <td>55</td>\n",
              "    </tr>\n",
              "    <tr>\n",
              "      <th>90</th>\n",
              "      <td>2015-06-30</td>\n",
              "      <td>53</td>\n",
              "    </tr>\n",
              "    <tr>\n",
              "      <th>...</th>\n",
              "      <td>...</td>\n",
              "      <td>...</td>\n",
              "    </tr>\n",
              "    <tr>\n",
              "      <th>46</th>\n",
              "      <td>2015-05-17</td>\n",
              "      <td>7</td>\n",
              "    </tr>\n",
              "    <tr>\n",
              "      <th>41</th>\n",
              "      <td>2015-05-12</td>\n",
              "      <td>7</td>\n",
              "    </tr>\n",
              "    <tr>\n",
              "      <th>4</th>\n",
              "      <td>2015-04-05</td>\n",
              "      <td>6</td>\n",
              "    </tr>\n",
              "    <tr>\n",
              "      <th>10</th>\n",
              "      <td>2015-04-11</td>\n",
              "      <td>5</td>\n",
              "    </tr>\n",
              "    <tr>\n",
              "      <th>32</th>\n",
              "      <td>2015-05-03</td>\n",
              "      <td>5</td>\n",
              "    </tr>\n",
              "  </tbody>\n",
              "</table>\n",
              "<p>91 rows × 2 columns</p>\n",
              "</div>\n",
              "      <button class=\"colab-df-convert\" onclick=\"convertToInteractive('df-a1eca1d3-0861-491d-bfdc-72ecef21bbfd')\"\n",
              "              title=\"Convert this dataframe to an interactive table.\"\n",
              "              style=\"display:none;\">\n",
              "        \n",
              "  <svg xmlns=\"http://www.w3.org/2000/svg\" height=\"24px\"viewBox=\"0 0 24 24\"\n",
              "       width=\"24px\">\n",
              "    <path d=\"M0 0h24v24H0V0z\" fill=\"none\"/>\n",
              "    <path d=\"M18.56 5.44l.94 2.06.94-2.06 2.06-.94-2.06-.94-.94-2.06-.94 2.06-2.06.94zm-11 1L8.5 8.5l.94-2.06 2.06-.94-2.06-.94L8.5 2.5l-.94 2.06-2.06.94zm10 10l.94 2.06.94-2.06 2.06-.94-2.06-.94-.94-2.06-.94 2.06-2.06.94z\"/><path d=\"M17.41 7.96l-1.37-1.37c-.4-.4-.92-.59-1.43-.59-.52 0-1.04.2-1.43.59L10.3 9.45l-7.72 7.72c-.78.78-.78 2.05 0 2.83L4 21.41c.39.39.9.59 1.41.59.51 0 1.02-.2 1.41-.59l7.78-7.78 2.81-2.81c.8-.78.8-2.07 0-2.86zM5.41 20L4 18.59l7.72-7.72 1.47 1.35L5.41 20z\"/>\n",
              "  </svg>\n",
              "      </button>\n",
              "      \n",
              "  <style>\n",
              "    .colab-df-container {\n",
              "      display:flex;\n",
              "      flex-wrap:wrap;\n",
              "      gap: 12px;\n",
              "    }\n",
              "\n",
              "    .colab-df-convert {\n",
              "      background-color: #E8F0FE;\n",
              "      border: none;\n",
              "      border-radius: 50%;\n",
              "      cursor: pointer;\n",
              "      display: none;\n",
              "      fill: #1967D2;\n",
              "      height: 32px;\n",
              "      padding: 0 0 0 0;\n",
              "      width: 32px;\n",
              "    }\n",
              "\n",
              "    .colab-df-convert:hover {\n",
              "      background-color: #E2EBFA;\n",
              "      box-shadow: 0px 1px 2px rgba(60, 64, 67, 0.3), 0px 1px 3px 1px rgba(60, 64, 67, 0.15);\n",
              "      fill: #174EA6;\n",
              "    }\n",
              "\n",
              "    [theme=dark] .colab-df-convert {\n",
              "      background-color: #3B4455;\n",
              "      fill: #D2E3FC;\n",
              "    }\n",
              "\n",
              "    [theme=dark] .colab-df-convert:hover {\n",
              "      background-color: #434B5C;\n",
              "      box-shadow: 0px 1px 3px 1px rgba(0, 0, 0, 0.15);\n",
              "      filter: drop-shadow(0px 1px 2px rgba(0, 0, 0, 0.3));\n",
              "      fill: #FFFFFF;\n",
              "    }\n",
              "  </style>\n",
              "\n",
              "      <script>\n",
              "        const buttonEl =\n",
              "          document.querySelector('#df-a1eca1d3-0861-491d-bfdc-72ecef21bbfd button.colab-df-convert');\n",
              "        buttonEl.style.display =\n",
              "          google.colab.kernel.accessAllowed ? 'block' : 'none';\n",
              "\n",
              "        async function convertToInteractive(key) {\n",
              "          const element = document.querySelector('#df-a1eca1d3-0861-491d-bfdc-72ecef21bbfd');\n",
              "          const dataTable =\n",
              "            await google.colab.kernel.invokeFunction('convertToInteractive',\n",
              "                                                     [key], {});\n",
              "          if (!dataTable) return;\n",
              "\n",
              "          const docLinkHtml = 'Like what you see? Visit the ' +\n",
              "            '<a target=\"_blank\" href=https://colab.research.google.com/notebooks/data_table.ipynb>data table notebook</a>'\n",
              "            + ' to learn more about interactive tables.';\n",
              "          element.innerHTML = '';\n",
              "          dataTable['output_type'] = 'display_data';\n",
              "          await google.colab.output.renderOutput(dataTable, element);\n",
              "          const docLink = document.createElement('div');\n",
              "          docLink.innerHTML = docLinkHtml;\n",
              "          element.appendChild(docLink);\n",
              "        }\n",
              "      </script>\n",
              "    </div>\n",
              "  </div>\n",
              "  "
            ]
          },
          "metadata": {},
          "execution_count": 30
        }
      ]
    },
    {
      "cell_type": "code",
      "source": [
        "daily.plot(x='Date',y='Ticket #',kind='line')\n",
        "plt.show()"
      ],
      "metadata": {
        "colab": {
          "base_uri": "https://localhost:8080/",
          "height": 314
        },
        "id": "i-19cIuYyQF-",
        "outputId": "f050bd99-6438-4af6-92cc-8cda1a8ce3a0"
      },
      "execution_count": 31,
      "outputs": [
        {
          "output_type": "display_data",
          "data": {
            "text/plain": [
              "<Figure size 432x288 with 1 Axes>"
            ],
            "image/png": "[encoded data removed]"
          },
          "metadata": {
            "needs_background": "light"
          }
        }
      ]
    },
    {
      "cell_type": "code",
      "source": [
        "#monthly complaint levels\n",
        "\n",
        "mnth=df.groupby(by=['month']).count()['Ticket #']\n",
        "\n",
        "mnth"
      ],
      "metadata": {
        "colab": {
          "base_uri": "https://localhost:8080/"
        },
        "id": "hkmqqLkwyTM-",
        "outputId": "ca32f3a0-adfe-4b45-8c98-83497f78529f"
      },
      "execution_count": 32,
      "outputs": [
        {
          "output_type": "execute_result",
          "data": {
            "text/plain": [
              "month\n",
              "April     545\n",
              "June     1280\n",
              "May       399\n",
              "Name: Ticket #, dtype: int64"
            ]
          },
          "metadata": {},
          "execution_count": 32
        }
      ]
    },
    {
      "cell_type": "code",
      "source": [
        "month_chart=pd.DataFrame(mnth).reset_index()\n",
        "\n",
        "month_chart"
      ],
      "metadata": {
        "colab": {
          "base_uri": "https://localhost:8080/",
          "height": 143
        },
        "id": "YJfhBv0Uyek3",
        "outputId": "aaa30116-58f0-4eee-ae7a-ad86de4d2f0e"
      },
      "execution_count": 33,
      "outputs": [
        {
          "output_type": "execute_result",
          "data": {
            "text/plain": [
              "   month  Ticket #\n",
              "0  April       545\n",
              "1   June      1280\n",
              "2    May       399"
            ],
            "text/html": [
              "\n",
              "  <div id=\"df-fc6d4adc-bcac-4299-8f25-d6fe1e37518c\">\n",
              "    <div class=\"colab-df-container\">\n",
              "      <div>\n",
              "<style scoped>\n",
              "    .dataframe tbody tr th:only-of-type {\n",
              "        vertical-align: middle;\n",
              "    }\n",
              "\n",
              "    .dataframe tbody tr th {\n",
              "        vertical-align: top;\n",
              "    }\n",
              "\n",
              "    .dataframe thead th {\n",
              "        text-align: right;\n",
              "    }\n",
              "</style>\n",
              "<table border=\"1\" class=\"dataframe\">\n",
              "  <thead>\n",
              "    <tr style=\"text-align: right;\">\n",
              "      <th></th>\n",
              "      <th>month</th>\n",
              "      <th>Ticket #</th>\n",
              "    </tr>\n",
              "  </thead>\n",
              "  <tbody>\n",
              "    <tr>\n",
              "      <th>0</th>\n",
              "      <td>April</td>\n",
              "      <td>545</td>\n",
              "    </tr>\n",
              "    <tr>\n",
              "      <th>1</th>\n",
              "      <td>June</td>\n",
              "      <td>1280</td>\n",
              "    </tr>\n",
              "    <tr>\n",
              "      <th>2</th>\n",
              "      <td>May</td>\n",
              "      <td>399</td>\n",
              "    </tr>\n",
              "  </tbody>\n",
              "</table>\n",
              "</div>\n",
              "      <button class=\"colab-df-convert\" onclick=\"convertToInteractive('df-fc6d4adc-bcac-4299-8f25-d6fe1e37518c')\"\n",
              "              title=\"Convert this dataframe to an interactive table.\"\n",
              "              style=\"display:none;\">\n",
              "        \n",
              "  <svg xmlns=\"http://www.w3.org/2000/svg\" height=\"24px\"viewBox=\"0 0 24 24\"\n",
              "       width=\"24px\">\n",
              "    <path d=\"M0 0h24v24H0V0z\" fill=\"none\"/>\n",
              "    <path d=\"M18.56 5.44l.94 2.06.94-2.06 2.06-.94-2.06-.94-.94-2.06-.94 2.06-2.06.94zm-11 1L8.5 8.5l.94-2.06 2.06-.94-2.06-.94L8.5 2.5l-.94 2.06-2.06.94zm10 10l.94 2.06.94-2.06 2.06-.94-2.06-.94-.94-2.06-.94 2.06-2.06.94z\"/><path d=\"M17.41 7.96l-1.37-1.37c-.4-.4-.92-.59-1.43-.59-.52 0-1.04.2-1.43.59L10.3 9.45l-7.72 7.72c-.78.78-.78 2.05 0 2.83L4 21.41c.39.39.9.59 1.41.59.51 0 1.02-.2 1.41-.59l7.78-7.78 2.81-2.81c.8-.78.8-2.07 0-2.86zM5.41 20L4 18.59l7.72-7.72 1.47 1.35L5.41 20z\"/>\n",
              "  </svg>\n",
              "      </button>\n",
              "      \n",
              "  <style>\n",
              "    .colab-df-container {\n",
              "      display:flex;\n",
              "      flex-wrap:wrap;\n",
              "      gap: 12px;\n",
              "    }\n",
              "\n",
              "    .colab-df-convert {\n",
              "      background-color: #E8F0FE;\n",
              "      border: none;\n",
              "      border-radius: 50%;\n",
              "      cursor: pointer;\n",
              "      display: none;\n",
              "      fill: #1967D2;\n",
              "      height: 32px;\n",
              "      padding: 0 0 0 0;\n",
              "      width: 32px;\n",
              "    }\n",
              "\n",
              "    .colab-df-convert:hover {\n",
              "      background-color: #E2EBFA;\n",
              "      box-shadow: 0px 1px 2px rgba(60, 64, 67, 0.3), 0px 1px 3px 1px rgba(60, 64, 67, 0.15);\n",
              "      fill: #174EA6;\n",
              "    }\n",
              "\n",
              "    [theme=dark] .colab-df-convert {\n",
              "      background-color: #3B4455;\n",
              "      fill: #D2E3FC;\n",
              "    }\n",
              "\n",
              "    [theme=dark] .colab-df-convert:hover {\n",
              "      background-color: #434B5C;\n",
              "      box-shadow: 0px 1px 3px 1px rgba(0, 0, 0, 0.15);\n",
              "      filter: drop-shadow(0px 1px 2px rgba(0, 0, 0, 0.3));\n",
              "      fill: #FFFFFF;\n",
              "    }\n",
              "  </style>\n",
              "\n",
              "      <script>\n",
              "        const buttonEl =\n",
              "          document.querySelector('#df-fc6d4adc-bcac-4299-8f25-d6fe1e37518c button.colab-df-convert');\n",
              "        buttonEl.style.display =\n",
              "          google.colab.kernel.accessAllowed ? 'block' : 'none';\n",
              "\n",
              "        async function convertToInteractive(key) {\n",
              "          const element = document.querySelector('#df-fc6d4adc-bcac-4299-8f25-d6fe1e37518c');\n",
              "          const dataTable =\n",
              "            await google.colab.kernel.invokeFunction('convertToInteractive',\n",
              "                                                     [key], {});\n",
              "          if (!dataTable) return;\n",
              "\n",
              "          const docLinkHtml = 'Like what you see? Visit the ' +\n",
              "            '<a target=\"_blank\" href=https://colab.research.google.com/notebooks/data_table.ipynb>data table notebook</a>'\n",
              "            + ' to learn more about interactive tables.';\n",
              "          element.innerHTML = '';\n",
              "          dataTable['output_type'] = 'display_data';\n",
              "          await google.colab.output.renderOutput(dataTable, element);\n",
              "          const docLink = document.createElement('div');\n",
              "          docLink.innerHTML = docLinkHtml;\n",
              "          element.appendChild(docLink);\n",
              "        }\n",
              "      </script>\n",
              "    </div>\n",
              "  </div>\n",
              "  "
            ]
          },
          "metadata": {},
          "execution_count": 33
        }
      ]
    },
    {
      "cell_type": "code",
      "source": [
        "month_chart.plot(x='month',y='Ticket #',kind='bar')\n",
        "plt.show()"
      ],
      "metadata": {
        "colab": {
          "base_uri": "https://localhost:8080/",
          "height": 292
        },
        "id": "SRaasDWtzOML",
        "outputId": "4bebd56e-08fd-4140-8380-2039f95db81b"
      },
      "execution_count": 34,
      "outputs": [
        {
          "output_type": "display_data",
          "data": {
            "text/plain": [
              "<Figure size 432x288 with 1 Axes>"
            ],
            "image/png": "[encoded data removed]"
          },
          "metadata": {
            "needs_background": "light"
          }
        }
      ]
    },
    {
      "cell_type": "code",
      "source": [
        "df['Customer Complaint'].value_counts()"
      ],
      "metadata": {
        "colab": {
          "base_uri": "https://localhost:8080/"
        },
        "id": "OUxow1NEzQfV",
        "outputId": "4aefac66-2b26-4341-fb8a-98936b8c069b"
      },
      "execution_count": 35,
      "outputs": [
        {
          "output_type": "execute_result",
          "data": {
            "text/plain": [
              "Comcast                                          83\n",
              "Comcast Internet                                 18\n",
              "Comcast Data Cap                                 17\n",
              "comcast                                          13\n",
              "Comcast Billing                                  11\n",
              "                                                 ..\n",
              "Improper Billing and non resolution of issues     1\n",
              "Deceptive trade                                   1\n",
              "intermittent internet                             1\n",
              "Internet Speed on Wireless Connection             1\n",
              "Comcast, Ypsilanti MI Internet Speed              1\n",
              "Name: Customer Complaint, Length: 1841, dtype: int64"
            ]
          },
          "metadata": {},
          "execution_count": 35
        }
      ]
    },
    {
      "cell_type": "code",
      "source": [
        "df['Customer Complaint'].value_counts()[:10].plot(kind='bar')"
      ],
      "metadata": {
        "colab": {
          "base_uri": "https://localhost:8080/",
          "height": 385
        },
        "id": "wDefc5KNzSwN",
        "outputId": "9d550734-3ab1-4fc4-d1ae-4e0ddfd8e64f"
      },
      "execution_count": 36,
      "outputs": [
        {
          "output_type": "execute_result",
          "data": {
            "text/plain": [
              "<matplotlib.axes._subplots.AxesSubplot at 0x7f7d5a3887d0>"
            ]
          },
          "metadata": {},
          "execution_count": 36
        },
        {
          "output_type": "display_data",
          "data": {
            "text/plain": [
              "<Figure size 432x288 with 1 Axes>"
            ],
            "image/png": "[encoded data removed]"
          },
          "metadata": {
            "needs_background": "light"
          }
        }
      ]
    },
    {
      "cell_type": "code",
      "source": [
        "#Which complaint types are maximum i.e., around internet, network issues, or across any other domains.\n",
        "\n",
        "internet_issues1=df[df['Customer Complaint'].str.contains('network')].count()"
      ],
      "metadata": {
        "id": "Y5V_GxGSznzH"
      },
      "execution_count": 37,
      "outputs": []
    },
    {
      "cell_type": "code",
      "source": [
        "internet_issues2=df[df['Customer Complaint'].str.contains('speed')].count()"
      ],
      "metadata": {
        "id": "-aTwaotjzp1P"
      },
      "execution_count": 38,
      "outputs": []
    },
    {
      "cell_type": "code",
      "source": [
        "internet_issues3=df[df['Customer Complaint'].str.contains('internet')].count()"
      ],
      "metadata": {
        "id": "DQQqJGfozsLe"
      },
      "execution_count": 39,
      "outputs": []
    },
    {
      "cell_type": "code",
      "source": [
        "billing_issues1=df[df['Customer Complaint'].str.contains('billing')].count()"
      ],
      "metadata": {
        "id": "sZpFgSX0zuVI"
      },
      "execution_count": 40,
      "outputs": []
    },
    {
      "cell_type": "code",
      "source": [
        "billing_issues2=df[df['Customer Complaint'].str.contains('charges')].count()"
      ],
      "metadata": {
        "id": "Qu59p_7Xzx3S"
      },
      "execution_count": 41,
      "outputs": []
    },
    {
      "cell_type": "code",
      "source": [
        "service_issues1=df[df['Customer Complaint'].str.contains('service')].count()\n"
      ],
      "metadata": {
        "id": "7G-a8lYPzzxP"
      },
      "execution_count": 42,
      "outputs": []
    },
    {
      "cell_type": "code",
      "source": [
        "service_issues2=df[df['Customer Complaint'].str.contains('customer')].count()"
      ],
      "metadata": {
        "id": "NQFYsk_Lz17u"
      },
      "execution_count": 43,
      "outputs": []
    },
    {
      "cell_type": "code",
      "source": [
        "total_internet_issue=internet_issues1+internet_issues2+internet_issues3"
      ],
      "metadata": {
        "id": "nfWJRtu2z39j"
      },
      "execution_count": 44,
      "outputs": []
    },
    {
      "cell_type": "code",
      "source": [
        "total_billing_issue=billing_issues1+billing_issues2"
      ],
      "metadata": {
        "id": "knZ1Th89z51P"
      },
      "execution_count": 45,
      "outputs": []
    },
    {
      "cell_type": "code",
      "source": [
        "total_service_issue=service_issues1+service_issues2"
      ],
      "metadata": {
        "id": "4A24cGotz7zB"
      },
      "execution_count": 46,
      "outputs": []
    },
    {
      "cell_type": "code",
      "source": [
        "total_billing_issue"
      ],
      "metadata": {
        "colab": {
          "base_uri": "https://localhost:8080/"
        },
        "id": "Adw7tCnyz9jP",
        "outputId": "62508505-5229-4ff9-c356-bef153f89cd8"
      },
      "execution_count": 47,
      "outputs": [
        {
          "output_type": "execute_result",
          "data": {
            "text/plain": [
              "Ticket #                       169\n",
              "Customer Complaint             169\n",
              "Date                           169\n",
              "Date_month_year                169\n",
              "Time                           169\n",
              "Received Via                   169\n",
              "City                           169\n",
              "State                          169\n",
              "Zip code                       169\n",
              "Status                         169\n",
              "Filing on Behalf of Someone    169\n",
              "month                          169\n",
              "dtype: int64"
            ]
          },
          "metadata": {},
          "execution_count": 47
        }
      ]
    },
    {
      "cell_type": "code",
      "source": [
        "total_internet_issue"
      ],
      "metadata": {
        "colab": {
          "base_uri": "https://localhost:8080/"
        },
        "id": "eADAUkUjz_b7",
        "outputId": "6c6a1e7f-1870-407b-80ba-a238b619ad29"
      },
      "execution_count": 48,
      "outputs": [
        {
          "output_type": "execute_result",
          "data": {
            "text/plain": [
              "Ticket #                       310\n",
              "Customer Complaint             310\n",
              "Date                           310\n",
              "Date_month_year                310\n",
              "Time                           310\n",
              "Received Via                   310\n",
              "City                           310\n",
              "State                          310\n",
              "Zip code                       310\n",
              "Status                         310\n",
              "Filing on Behalf of Someone    310\n",
              "month                          310\n",
              "dtype: int64"
            ]
          },
          "metadata": {},
          "execution_count": 48
        }
      ]
    },
    {
      "cell_type": "code",
      "source": [
        "total_service_issue"
      ],
      "metadata": {
        "colab": {
          "base_uri": "https://localhost:8080/"
        },
        "id": "UdO2_yvv0CAk",
        "outputId": "870a1838-cabd-454a-8ef1-f3b2cc6d7859"
      },
      "execution_count": 49,
      "outputs": [
        {
          "output_type": "execute_result",
          "data": {
            "text/plain": [
              "Ticket #                       360\n",
              "Customer Complaint             360\n",
              "Date                           360\n",
              "Date_month_year                360\n",
              "Time                           360\n",
              "Received Via                   360\n",
              "City                           360\n",
              "State                          360\n",
              "Zip code                       360\n",
              "Status                         360\n",
              "Filing on Behalf of Someone    360\n",
              "month                          360\n",
              "dtype: int64"
            ]
          },
          "metadata": {},
          "execution_count": 49
        }
      ]
    },
    {
      "cell_type": "code",
      "source": [
        "other_issue=2224-(total_billing_issue+total_internet_issue+total_service_issue)"
      ],
      "metadata": {
        "id": "id5uTpTD0EBK"
      },
      "execution_count": 50,
      "outputs": []
    },
    {
      "cell_type": "code",
      "source": [
        "df.shape"
      ],
      "metadata": {
        "colab": {
          "base_uri": "https://localhost:8080/"
        },
        "id": "MngrT1qg0MT1",
        "outputId": "2e61e15b-982b-4b5a-ca2e-2629a13eac13"
      },
      "execution_count": 51,
      "outputs": [
        {
          "output_type": "execute_result",
          "data": {
            "text/plain": [
              "(2224, 12)"
            ]
          },
          "metadata": {},
          "execution_count": 51
        }
      ]
    },
    {
      "cell_type": "code",
      "source": [
        "other_issue"
      ],
      "metadata": {
        "colab": {
          "base_uri": "https://localhost:8080/"
        },
        "id": "PYdaivCC0OH9",
        "outputId": "e3de0d52-cb89-482c-9730-1a19acb26ac2"
      },
      "execution_count": 52,
      "outputs": [
        {
          "output_type": "execute_result",
          "data": {
            "text/plain": [
              "Ticket #                       1385\n",
              "Customer Complaint             1385\n",
              "Date                           1385\n",
              "Date_month_year                1385\n",
              "Time                           1385\n",
              "Received Via                   1385\n",
              "City                           1385\n",
              "State                          1385\n",
              "Zip code                       1385\n",
              "Status                         1385\n",
              "Filing on Behalf of Someone    1385\n",
              "month                          1385\n",
              "dtype: int64"
            ]
          },
          "metadata": {},
          "execution_count": 52
        }
      ]
    },
    {
      "cell_type": "code",
      "source": [
        "#Create a new categorical variable with value as Open and Closed. Open & Pending is to be categorized as Open\n",
        "\n",
        "df['Status'].unique()"
      ],
      "metadata": {
        "colab": {
          "base_uri": "https://localhost:8080/"
        },
        "id": "-WtePP1c0RZ8",
        "outputId": "0bbd4277-6f17-4549-9dd0-b9e5b79363e0"
      },
      "execution_count": 53,
      "outputs": [
        {
          "output_type": "execute_result",
          "data": {
            "text/plain": [
              "array(['Closed', 'Open', 'Solved', 'Pending'], dtype=object)"
            ]
          },
          "metadata": {},
          "execution_count": 53
        }
      ]
    },
    {
      "cell_type": "code",
      "source": [
        "df['newstatus']=[ 'Open' if st==\"Open\" or st==\"Pending\" else 'Closed' for st in df['Status']]\n",
        "\n",
        "df.head()"
      ],
      "metadata": {
        "colab": {
          "base_uri": "https://localhost:8080/",
          "height": 600
        },
        "id": "MAmTR73A0bsO",
        "outputId": "ec72a7b3-03e0-4a05-9975-82509ac1c9d3"
      },
      "execution_count": 54,
      "outputs": [
        {
          "output_type": "execute_result",
          "data": {
            "text/plain": [
              "  Ticket #                                 Customer Complaint       Date  \\\n",
              "0   250635                      Comcast Cable Internet Speeds 2015-04-22   \n",
              "1   223441       Payment disappear - service got disconnected 2015-04-08   \n",
              "2   242732                                  Speed and Service 2015-04-18   \n",
              "3   277946  Comcast Imposed a New Usage Cap of 300GB that ... 2015-05-07   \n",
              "4   307175         Comcast not working and no service to boot 2015-05-26   \n",
              "\n",
              "  Date_month_year         Time        Received Via      City     State  \\\n",
              "0       22-Apr-15   3:53:50 PM  Customer Care Call  Abingdon  Maryland   \n",
              "1       04-Aug-15  10:22:56 AM            Internet   Acworth   Georgia   \n",
              "2       18-Apr-15   9:55:47 AM            Internet   Acworth   Georgia   \n",
              "3       05-Jul-15  11:59:35 AM            Internet   Acworth   Georgia   \n",
              "4       26-May-15   1:25:26 PM            Internet   Acworth   Georgia   \n",
              "\n",
              "   Zip code  Status Filing on Behalf of Someone  month newstatus  \n",
              "0     21009  Closed                          No  April    Closed  \n",
              "1     30102  Closed                          No  April    Closed  \n",
              "2     30101  Closed                         Yes  April    Closed  \n",
              "3     30101    Open                         Yes    May      Open  \n",
              "4     30101  Solved                          No    May    Closed  "
            ],
            "text/html": [
              "\n",
              "  <div id=\"df-9bdc77ee-9e79-42f2-a9cd-947238bb3b65\">\n",
              "    <div class=\"colab-df-container\">\n",
              "      <div>\n",
              "<style scoped>\n",
              "    .dataframe tbody tr th:only-of-type {\n",
              "        vertical-align: middle;\n",
              "    }\n",
              "\n",
              "    .dataframe tbody tr th {\n",
              "        vertical-align: top;\n",
              "    }\n",
              "\n",
              "    .dataframe thead th {\n",
              "        text-align: right;\n",
              "    }\n",
              "</style>\n",
              "<table border=\"1\" class=\"dataframe\">\n",
              "  <thead>\n",
              "    <tr style=\"text-align: right;\">\n",
              "      <th></th>\n",
              "      <th>Ticket #</th>\n",
              "      <th>Customer Complaint</th>\n",
              "      <th>Date</th>\n",
              "      <th>Date_month_year</th>\n",
              "      <th>Time</th>\n",
              "      <th>Received Via</th>\n",
              "      <th>City</th>\n",
              "      <th>State</th>\n",
              "      <th>Zip code</th>\n",
              "      <th>Status</th>\n",
              "      <th>Filing on Behalf of Someone</th>\n",
              "      <th>month</th>\n",
              "      <th>newstatus</th>\n",
              "    </tr>\n",
              "  </thead>\n",
              "  <tbody>\n",
              "    <tr>\n",
              "      <th>0</th>\n",
              "      <td>250635</td>\n",
              "      <td>Comcast Cable Internet Speeds</td>\n",
              "      <td>2015-04-22</td>\n",
              "      <td>22-Apr-15</td>\n",
              "      <td>3:53:50 PM</td>\n",
              "      <td>Customer Care Call</td>\n",
              "      <td>Abingdon</td>\n",
              "      <td>Maryland</td>\n",
              "      <td>21009</td>\n",
              "      <td>Closed</td>\n",
              "      <td>No</td>\n",
              "      <td>April</td>\n",
              "      <td>Closed</td>\n",
              "    </tr>\n",
              "    <tr>\n",
              "      <th>1</th>\n",
              "      <td>223441</td>\n",
              "      <td>Payment disappear - service got disconnected</td>\n",
              "      <td>2015-04-08</td>\n",
              "      <td>04-Aug-15</td>\n",
              "      <td>10:22:56 AM</td>\n",
              "      <td>Internet</td>\n",
              "      <td>Acworth</td>\n",
              "      <td>Georgia</td>\n",
              "      <td>30102</td>\n",
              "      <td>Closed</td>\n",
              "      <td>No</td>\n",
              "      <td>April</td>\n",
              "      <td>Closed</td>\n",
              "    </tr>\n",
              "    <tr>\n",
              "      <th>2</th>\n",
              "      <td>242732</td>\n",
              "      <td>Speed and Service</td>\n",
              "      <td>2015-04-18</td>\n",
              "      <td>18-Apr-15</td>\n",
              "      <td>9:55:47 AM</td>\n",
              "      <td>Internet</td>\n",
              "      <td>Acworth</td>\n",
              "      <td>Georgia</td>\n",
              "      <td>30101</td>\n",
              "      <td>Closed</td>\n",
              "      <td>Yes</td>\n",
              "      <td>April</td>\n",
              "      <td>Closed</td>\n",
              "    </tr>\n",
              "    <tr>\n",
              "      <th>3</th>\n",
              "      <td>277946</td>\n",
              "      <td>Comcast Imposed a New Usage Cap of 300GB that ...</td>\n",
              "      <td>2015-05-07</td>\n",
              "      <td>05-Jul-15</td>\n",
              "      <td>11:59:35 AM</td>\n",
              "      <td>Internet</td>\n",
              "      <td>Acworth</td>\n",
              "      <td>Georgia</td>\n",
              "      <td>30101</td>\n",
              "      <td>Open</td>\n",
              "      <td>Yes</td>\n",
              "      <td>May</td>\n",
              "      <td>Open</td>\n",
              "    </tr>\n",
              "    <tr>\n",
              "      <th>4</th>\n",
              "      <td>307175</td>\n",
              "      <td>Comcast not working and no service to boot</td>\n",
              "      <td>2015-05-26</td>\n",
              "      <td>26-May-15</td>\n",
              "      <td>1:25:26 PM</td>\n",
              "      <td>Internet</td>\n",
              "      <td>Acworth</td>\n",
              "      <td>Georgia</td>\n",
              "      <td>30101</td>\n",
              "      <td>Solved</td>\n",
              "      <td>No</td>\n",
              "      <td>May</td>\n",
              "      <td>Closed</td>\n",
              "    </tr>\n",
              "  </tbody>\n",
              "</table>\n",
              "</div>\n",
              "      <button class=\"colab-df-convert\" onclick=\"convertToInteractive('df-9bdc77ee-9e79-42f2-a9cd-947238bb3b65')\"\n",
              "              title=\"Convert this dataframe to an interactive table.\"\n",
              "              style=\"display:none;\">\n",
              "        \n",
              "  <svg xmlns=\"http://www.w3.org/2000/svg\" height=\"24px\"viewBox=\"0 0 24 24\"\n",
              "       width=\"24px\">\n",
              "    <path d=\"M0 0h24v24H0V0z\" fill=\"none\"/>\n",
              "    <path d=\"M18.56 5.44l.94 2.06.94-2.06 2.06-.94-2.06-.94-.94-2.06-.94 2.06-2.06.94zm-11 1L8.5 8.5l.94-2.06 2.06-.94-2.06-.94L8.5 2.5l-.94 2.06-2.06.94zm10 10l.94 2.06.94-2.06 2.06-.94-2.06-.94-.94-2.06-.94 2.06-2.06.94z\"/><path d=\"M17.41 7.96l-1.37-1.37c-.4-.4-.92-.59-1.43-.59-.52 0-1.04.2-1.43.59L10.3 9.45l-7.72 7.72c-.78.78-.78 2.05 0 2.83L4 21.41c.39.39.9.59 1.41.59.51 0 1.02-.2 1.41-.59l7.78-7.78 2.81-2.81c.8-.78.8-2.07 0-2.86zM5.41 20L4 18.59l7.72-7.72 1.47 1.35L5.41 20z\"/>\n",
              "  </svg>\n",
              "      </button>\n",
              "      \n",
              "  <style>\n",
              "    .colab-df-container {\n",
              "      display:flex;\n",
              "      flex-wrap:wrap;\n",
              "      gap: 12px;\n",
              "    }\n",
              "\n",
              "    .colab-df-convert {\n",
              "      background-color: #E8F0FE;\n",
              "      border: none;\n",
              "      border-radius: 50%;\n",
              "      cursor: pointer;\n",
              "      display: none;\n",
              "      fill: #1967D2;\n",
              "      height: 32px;\n",
              "      padding: 0 0 0 0;\n",
              "      width: 32px;\n",
              "    }\n",
              "\n",
              "    .colab-df-convert:hover {\n",
              "      background-color: #E2EBFA;\n",
              "      box-shadow: 0px 1px 2px rgba(60, 64, 67, 0.3), 0px 1px 3px 1px rgba(60, 64, 67, 0.15);\n",
              "      fill: #174EA6;\n",
              "    }\n",
              "\n",
              "    [theme=dark] .colab-df-convert {\n",
              "      background-color: #3B4455;\n",
              "      fill: #D2E3FC;\n",
              "    }\n",
              "\n",
              "    [theme=dark] .colab-df-convert:hover {\n",
              "      background-color: #434B5C;\n",
              "      box-shadow: 0px 1px 3px 1px rgba(0, 0, 0, 0.15);\n",
              "      filter: drop-shadow(0px 1px 2px rgba(0, 0, 0, 0.3));\n",
              "      fill: #FFFFFF;\n",
              "    }\n",
              "  </style>\n",
              "\n",
              "      <script>\n",
              "        const buttonEl =\n",
              "          document.querySelector('#df-9bdc77ee-9e79-42f2-a9cd-947238bb3b65 button.colab-df-convert');\n",
              "        buttonEl.style.display =\n",
              "          google.colab.kernel.accessAllowed ? 'block' : 'none';\n",
              "\n",
              "        async function convertToInteractive(key) {\n",
              "          const element = document.querySelector('#df-9bdc77ee-9e79-42f2-a9cd-947238bb3b65');\n",
              "          const dataTable =\n",
              "            await google.colab.kernel.invokeFunction('convertToInteractive',\n",
              "                                                     [key], {});\n",
              "          if (!dataTable) return;\n",
              "\n",
              "          const docLinkHtml = 'Like what you see? Visit the ' +\n",
              "            '<a target=\"_blank\" href=https://colab.research.google.com/notebooks/data_table.ipynb>data table notebook</a>'\n",
              "            + ' to learn more about interactive tables.';\n",
              "          element.innerHTML = '';\n",
              "          dataTable['output_type'] = 'display_data';\n",
              "          await google.colab.output.renderOutput(dataTable, element);\n",
              "          const docLink = document.createElement('div');\n",
              "          docLink.innerHTML = docLinkHtml;\n",
              "          element.appendChild(docLink);\n",
              "        }\n",
              "      </script>\n",
              "    </div>\n",
              "  </div>\n",
              "  "
            ]
          },
          "metadata": {},
          "execution_count": 54
        }
      ]
    },
    {
      "cell_type": "code",
      "source": [
        "#Which state has the maximum complaints\n",
        "df.groupby(by='State').size().sort_values(ascending=False)[:5]"
      ],
      "metadata": {
        "colab": {
          "base_uri": "https://localhost:8080/"
        },
        "id": "gW76OII20dTw",
        "outputId": "590d80e0-f6ed-4f77-f06a-4d0410f7b700"
      },
      "execution_count": 55,
      "outputs": [
        {
          "output_type": "execute_result",
          "data": {
            "text/plain": [
              "State\n",
              "Georgia       288\n",
              "Florida       240\n",
              "California    220\n",
              "Illinois      164\n",
              "Tennessee     143\n",
              "dtype: int64"
            ]
          },
          "metadata": {},
          "execution_count": 55
        }
      ]
    },
    {
      "cell_type": "code",
      "source": [
        "#Provide state wise status of complaints in a stacked bar chart\n",
        "\n",
        "\n",
        "state_complain=df.groupby(by=['State','newstatus']).size().unstack()\n",
        "\n",
        "state_complain"
      ],
      "metadata": {
        "colab": {
          "base_uri": "https://localhost:8080/",
          "height": 1000
        },
        "id": "t-aBpyn10glu",
        "outputId": "d52f5053-c827-4254-b7de-03272da8f0f1"
      },
      "execution_count": 56,
      "outputs": [
        {
          "output_type": "execute_result",
          "data": {
            "text/plain": [
              "newstatus             Closed  Open\n",
              "State                             \n",
              "Alabama                 17.0   9.0\n",
              "Arizona                 14.0   6.0\n",
              "Arkansas                 6.0   NaN\n",
              "California             159.0  61.0\n",
              "Colorado                58.0  22.0\n",
              "Connecticut              9.0   3.0\n",
              "Delaware                 8.0   4.0\n",
              "District Of Columbia    14.0   2.0\n",
              "District of Columbia     1.0   NaN\n",
              "Florida                201.0  39.0\n",
              "Georgia                208.0  80.0\n",
              "Illinois               135.0  29.0\n",
              "Indiana                 50.0   9.0\n",
              "Iowa                     1.0   NaN\n",
              "Kansas                   1.0   1.0\n",
              "Kentucky                 4.0   3.0\n",
              "Louisiana               12.0   1.0\n",
              "Maine                    3.0   2.0\n",
              "Maryland                63.0  15.0\n",
              "Massachusetts           50.0  11.0\n",
              "Michigan                92.0  23.0\n",
              "Minnesota               29.0   4.0\n",
              "Mississippi             23.0  16.0\n",
              "Missouri                 3.0   1.0\n",
              "Montana                  1.0   NaN\n",
              "Nevada                   1.0   NaN\n",
              "New Hampshire            8.0   4.0\n",
              "New Jersey              56.0  19.0\n",
              "New Mexico              11.0   4.0\n",
              "New York                 6.0   NaN\n",
              "North Carolina           3.0   NaN\n",
              "Ohio                     3.0   NaN\n",
              "Oregon                  36.0  13.0\n",
              "Pennsylvania           110.0  20.0\n",
              "Rhode Island             1.0   NaN\n",
              "South Carolina          15.0   3.0\n",
              "Tennessee               96.0  47.0\n",
              "Texas                   49.0  22.0\n",
              "Utah                    16.0   6.0\n",
              "Vermont                  2.0   1.0\n",
              "Virginia                49.0  11.0\n",
              "Washington              75.0  23.0\n",
              "West Virginia            8.0   3.0"
            ],
            "text/html": [
              "\n",
              "  <div id=\"df-7360fe94-e80a-4f37-a70c-5696132a1cf4\">\n",
              "    <div class=\"colab-df-container\">\n",
              "      <div>\n",
              "<style scoped>\n",
              "    .dataframe tbody tr th:only-of-type {\n",
              "        vertical-align: middle;\n",
              "    }\n",
              "\n",
              "    .dataframe tbody tr th {\n",
              "        vertical-align: top;\n",
              "    }\n",
              "\n",
              "    .dataframe thead th {\n",
              "        text-align: right;\n",
              "    }\n",
              "</style>\n",
              "<table border=\"1\" class=\"dataframe\">\n",
              "  <thead>\n",
              "    <tr style=\"text-align: right;\">\n",
              "      <th>newstatus</th>\n",
              "      <th>Closed</th>\n",
              "      <th>Open</th>\n",
              "    </tr>\n",
              "    <tr>\n",
              "      <th>State</th>\n",
              "      <th></th>\n",
              "      <th></th>\n",
              "    </tr>\n",
              "  </thead>\n",
              "  <tbody>\n",
              "    <tr>\n",
              "      <th>Alabama</th>\n",
              "      <td>17.0</td>\n",
              "      <td>9.0</td>\n",
              "    </tr>\n",
              "    <tr>\n",
              "      <th>Arizona</th>\n",
              "      <td>14.0</td>\n",
              "      <td>6.0</td>\n",
              "    </tr>\n",
              "    <tr>\n",
              "      <th>Arkansas</th>\n",
              "      <td>6.0</td>\n",
              "      <td>NaN</td>\n",
              "    </tr>\n",
              "    <tr>\n",
              "      <th>California</th>\n",
              "      <td>159.0</td>\n",
              "      <td>61.0</td>\n",
              "    </tr>\n",
              "    <tr>\n",
              "      <th>Colorado</th>\n",
              "      <td>58.0</td>\n",
              "      <td>22.0</td>\n",
              "    </tr>\n",
              "    <tr>\n",
              "      <th>Connecticut</th>\n",
              "      <td>9.0</td>\n",
              "      <td>3.0</td>\n",
              "    </tr>\n",
              "    <tr>\n",
              "      <th>Delaware</th>\n",
              "      <td>8.0</td>\n",
              "      <td>4.0</td>\n",
              "    </tr>\n",
              "    <tr>\n",
              "      <th>District Of Columbia</th>\n",
              "      <td>14.0</td>\n",
              "      <td>2.0</td>\n",
              "    </tr>\n",
              "    <tr>\n",
              "      <th>District of Columbia</th>\n",
              "      <td>1.0</td>\n",
              "      <td>NaN</td>\n",
              "    </tr>\n",
              "    <tr>\n",
              "      <th>Florida</th>\n",
              "      <td>201.0</td>\n",
              "      <td>39.0</td>\n",
              "    </tr>\n",
              "    <tr>\n",
              "      <th>Georgia</th>\n",
              "      <td>208.0</td>\n",
              "      <td>80.0</td>\n",
              "    </tr>\n",
              "    <tr>\n",
              "      <th>Illinois</th>\n",
              "      <td>135.0</td>\n",
              "      <td>29.0</td>\n",
              "    </tr>\n",
              "    <tr>\n",
              "      <th>Indiana</th>\n",
              "      <td>50.0</td>\n",
              "      <td>9.0</td>\n",
              "    </tr>\n",
              "    <tr>\n",
              "      <th>Iowa</th>\n",
              "      <td>1.0</td>\n",
              "      <td>NaN</td>\n",
              "    </tr>\n",
              "    <tr>\n",
              "      <th>Kansas</th>\n",
              "      <td>1.0</td>\n",
              "      <td>1.0</td>\n",
              "    </tr>\n",
              "    <tr>\n",
              "      <th>Kentucky</th>\n",
              "      <td>4.0</td>\n",
              "      <td>3.0</td>\n",
              "    </tr>\n",
              "    <tr>\n",
              "      <th>Louisiana</th>\n",
              "      <td>12.0</td>\n",
              "      <td>1.0</td>\n",
              "    </tr>\n",
              "    <tr>\n",
              "      <th>Maine</th>\n",
              "      <td>3.0</td>\n",
              "      <td>2.0</td>\n",
              "    </tr>\n",
              "    <tr>\n",
              "      <th>Maryland</th>\n",
              "      <td>63.0</td>\n",
              "      <td>15.0</td>\n",
              "    </tr>\n",
              "    <tr>\n",
              "      <th>Massachusetts</th>\n",
              "      <td>50.0</td>\n",
              "      <td>11.0</td>\n",
              "    </tr>\n",
              "    <tr>\n",
              "      <th>Michigan</th>\n",
              "      <td>92.0</td>\n",
              "      <td>23.0</td>\n",
              "    </tr>\n",
              "    <tr>\n",
              "      <th>Minnesota</th>\n",
              "      <td>29.0</td>\n",
              "      <td>4.0</td>\n",
              "    </tr>\n",
              "    <tr>\n",
              "      <th>Mississippi</th>\n",
              "      <td>23.0</td>\n",
              "      <td>16.0</td>\n",
              "    </tr>\n",
              "    <tr>\n",
              "      <th>Missouri</th>\n",
              "      <td>3.0</td>\n",
              "      <td>1.0</td>\n",
              "    </tr>\n",
              "    <tr>\n",
              "      <th>Montana</th>\n",
              "      <td>1.0</td>\n",
              "      <td>NaN</td>\n",
              "    </tr>\n",
              "    <tr>\n",
              "      <th>Nevada</th>\n",
              "      <td>1.0</td>\n",
              "      <td>NaN</td>\n",
              "    </tr>\n",
              "    <tr>\n",
              "      <th>New Hampshire</th>\n",
              "      <td>8.0</td>\n",
              "      <td>4.0</td>\n",
              "    </tr>\n",
              "    <tr>\n",
              "      <th>New Jersey</th>\n",
              "      <td>56.0</td>\n",
              "      <td>19.0</td>\n",
              "    </tr>\n",
              "    <tr>\n",
              "      <th>New Mexico</th>\n",
              "      <td>11.0</td>\n",
              "      <td>4.0</td>\n",
              "    </tr>\n",
              "    <tr>\n",
              "      <th>New York</th>\n",
              "      <td>6.0</td>\n",
              "      <td>NaN</td>\n",
              "    </tr>\n",
              "    <tr>\n",
              "      <th>North Carolina</th>\n",
              "      <td>3.0</td>\n",
              "      <td>NaN</td>\n",
              "    </tr>\n",
              "    <tr>\n",
              "      <th>Ohio</th>\n",
              "      <td>3.0</td>\n",
              "      <td>NaN</td>\n",
              "    </tr>\n",
              "    <tr>\n",
              "      <th>Oregon</th>\n",
              "      <td>36.0</td>\n",
              "      <td>13.0</td>\n",
              "    </tr>\n",
              "    <tr>\n",
              "      <th>Pennsylvania</th>\n",
              "      <td>110.0</td>\n",
              "      <td>20.0</td>\n",
              "    </tr>\n",
              "    <tr>\n",
              "      <th>Rhode Island</th>\n",
              "      <td>1.0</td>\n",
              "      <td>NaN</td>\n",
              "    </tr>\n",
              "    <tr>\n",
              "      <th>South Carolina</th>\n",
              "      <td>15.0</td>\n",
              "      <td>3.0</td>\n",
              "    </tr>\n",
              "    <tr>\n",
              "      <th>Tennessee</th>\n",
              "      <td>96.0</td>\n",
              "      <td>47.0</td>\n",
              "    </tr>\n",
              "    <tr>\n",
              "      <th>Texas</th>\n",
              "      <td>49.0</td>\n",
              "      <td>22.0</td>\n",
              "    </tr>\n",
              "    <tr>\n",
              "      <th>Utah</th>\n",
              "      <td>16.0</td>\n",
              "      <td>6.0</td>\n",
              "    </tr>\n",
              "    <tr>\n",
              "      <th>Vermont</th>\n",
              "      <td>2.0</td>\n",
              "      <td>1.0</td>\n",
              "    </tr>\n",
              "    <tr>\n",
              "      <th>Virginia</th>\n",
              "      <td>49.0</td>\n",
              "      <td>11.0</td>\n",
              "    </tr>\n",
              "    <tr>\n",
              "      <th>Washington</th>\n",
              "      <td>75.0</td>\n",
              "      <td>23.0</td>\n",
              "    </tr>\n",
              "    <tr>\n",
              "      <th>West Virginia</th>\n",
              "      <td>8.0</td>\n",
              "      <td>3.0</td>\n",
              "    </tr>\n",
              "  </tbody>\n",
              "</table>\n",
              "</div>\n",
              "      <button class=\"colab-df-convert\" onclick=\"convertToInteractive('df-7360fe94-e80a-4f37-a70c-5696132a1cf4')\"\n",
              "              title=\"Convert this dataframe to an interactive table.\"\n",
              "              style=\"display:none;\">\n",
              "        \n",
              "  <svg xmlns=\"http://www.w3.org/2000/svg\" height=\"24px\"viewBox=\"0 0 24 24\"\n",
              "       width=\"24px\">\n",
              "    <path d=\"M0 0h24v24H0V0z\" fill=\"none\"/>\n",
              "    <path d=\"M18.56 5.44l.94 2.06.94-2.06 2.06-.94-2.06-.94-.94-2.06-.94 2.06-2.06.94zm-11 1L8.5 8.5l.94-2.06 2.06-.94-2.06-.94L8.5 2.5l-.94 2.06-2.06.94zm10 10l.94 2.06.94-2.06 2.06-.94-2.06-.94-.94-2.06-.94 2.06-2.06.94z\"/><path d=\"M17.41 7.96l-1.37-1.37c-.4-.4-.92-.59-1.43-.59-.52 0-1.04.2-1.43.59L10.3 9.45l-7.72 7.72c-.78.78-.78 2.05 0 2.83L4 21.41c.39.39.9.59 1.41.59.51 0 1.02-.2 1.41-.59l7.78-7.78 2.81-2.81c.8-.78.8-2.07 0-2.86zM5.41 20L4 18.59l7.72-7.72 1.47 1.35L5.41 20z\"/>\n",
              "  </svg>\n",
              "      </button>\n",
              "      \n",
              "  <style>\n",
              "    .colab-df-container {\n",
              "      display:flex;\n",
              "      flex-wrap:wrap;\n",
              "      gap: 12px;\n",
              "    }\n",
              "\n",
              "    .colab-df-convert {\n",
              "      background-color: #E8F0FE;\n",
              "      border: none;\n",
              "      border-radius: 50%;\n",
              "      cursor: pointer;\n",
              "      display: none;\n",
              "      fill: #1967D2;\n",
              "      height: 32px;\n",
              "      padding: 0 0 0 0;\n",
              "      width: 32px;\n",
              "    }\n",
              "\n",
              "    .colab-df-convert:hover {\n",
              "      background-color: #E2EBFA;\n",
              "      box-shadow: 0px 1px 2px rgba(60, 64, 67, 0.3), 0px 1px 3px 1px rgba(60, 64, 67, 0.15);\n",
              "      fill: #174EA6;\n",
              "    }\n",
              "\n",
              "    [theme=dark] .colab-df-convert {\n",
              "      background-color: #3B4455;\n",
              "      fill: #D2E3FC;\n",
              "    }\n",
              "\n",
              "    [theme=dark] .colab-df-convert:hover {\n",
              "      background-color: #434B5C;\n",
              "      box-shadow: 0px 1px 3px 1px rgba(0, 0, 0, 0.15);\n",
              "      filter: drop-shadow(0px 1px 2px rgba(0, 0, 0, 0.3));\n",
              "      fill: #FFFFFF;\n",
              "    }\n",
              "  </style>\n",
              "\n",
              "      <script>\n",
              "        const buttonEl =\n",
              "          document.querySelector('#df-7360fe94-e80a-4f37-a70c-5696132a1cf4 button.colab-df-convert');\n",
              "        buttonEl.style.display =\n",
              "          google.colab.kernel.accessAllowed ? 'block' : 'none';\n",
              "\n",
              "        async function convertToInteractive(key) {\n",
              "          const element = document.querySelector('#df-7360fe94-e80a-4f37-a70c-5696132a1cf4');\n",
              "          const dataTable =\n",
              "            await google.colab.kernel.invokeFunction('convertToInteractive',\n",
              "                                                     [key], {});\n",
              "          if (!dataTable) return;\n",
              "\n",
              "          const docLinkHtml = 'Like what you see? Visit the ' +\n",
              "            '<a target=\"_blank\" href=https://colab.research.google.com/notebooks/data_table.ipynb>data table notebook</a>'\n",
              "            + ' to learn more about interactive tables.';\n",
              "          element.innerHTML = '';\n",
              "          dataTable['output_type'] = 'display_data';\n",
              "          await google.colab.output.renderOutput(dataTable, element);\n",
              "          const docLink = document.createElement('div');\n",
              "          docLink.innerHTML = docLinkHtml;\n",
              "          element.appendChild(docLink);\n",
              "        }\n",
              "      </script>\n",
              "    </div>\n",
              "  </div>\n",
              "  "
            ]
          },
          "metadata": {},
          "execution_count": 56
        }
      ]
    },
    {
      "cell_type": "code",
      "source": [
        "state_complain.plot.bar(figsize=(10,10),stacked=True)\n",
        "plt.show()"
      ],
      "metadata": {
        "colab": {
          "base_uri": "https://localhost:8080/",
          "height": 696
        },
        "id": "rBNqexPz0skj",
        "outputId": "0835d256-9e30-4ac6-896d-ea37c5d1afe9"
      },
      "execution_count": 57,
      "outputs": [
        {
          "output_type": "display_data",
          "data": {
            "text/plain": [
              "<Figure size 720x720 with 1 Axes>"
            ],
            "image/png": "[encoded data removed]"
          },
          "metadata": {
            "needs_background": "light"
          }
        }
      ]
    },
    {
      "cell_type": "code",
      "source": [
        "#Which state has the highest percentage of unresolved complaints\n",
        "\n",
        "\n",
        "df.newstatus.value_counts()"
      ],
      "metadata": {
        "colab": {
          "base_uri": "https://localhost:8080/"
        },
        "id": "GX9M-OVJ0vhf",
        "outputId": "8bd6c321-f0e7-49bd-af5a-a51460712210"
      },
      "execution_count": 58,
      "outputs": [
        {
          "output_type": "execute_result",
          "data": {
            "text/plain": [
              "Closed    1707\n",
              "Open       517\n",
              "Name: newstatus, dtype: int64"
            ]
          },
          "metadata": {},
          "execution_count": 58
        }
      ]
    },
    {
      "cell_type": "code",
      "source": [
        "unresolved_data=df.groupby(by=['State','newstatus']).size().unstack().fillna(0).sort_values(by='Open', ascending=False)"
      ],
      "metadata": {
        "id": "lVwAvlQV00DP"
      },
      "execution_count": 64,
      "outputs": []
    },
    {
      "cell_type": "code",
      "source": [
        "unresolved_data['unresolved_cmp_prect']=unresolved_data['Open']/unresolved_data['Open'].sum()*100"
      ],
      "metadata": {
        "id": "eKa7w98b05G5"
      },
      "execution_count": 65,
      "outputs": []
    },
    {
      "cell_type": "code",
      "source": [
        "unresolved_data"
      ],
      "metadata": {
        "colab": {
          "base_uri": "https://localhost:8080/",
          "height": 1000
        },
        "id": "ibpwTSki1MFM",
        "outputId": "9080bfd5-0463-43ef-a62c-927c0921540c"
      },
      "execution_count": 66,
      "outputs": [
        {
          "output_type": "execute_result",
          "data": {
            "text/plain": [
              "newstatus             Closed  Open  unresolved_cmp_prect\n",
              "State                                                   \n",
              "Georgia                208.0  80.0             15.473888\n",
              "California             159.0  61.0             11.798839\n",
              "Tennessee               96.0  47.0              9.090909\n",
              "Florida                201.0  39.0              7.543520\n",
              "Illinois               135.0  29.0              5.609284\n",
              "Washington              75.0  23.0              4.448743\n",
              "Michigan                92.0  23.0              4.448743\n",
              "Colorado                58.0  22.0              4.255319\n",
              "Texas                   49.0  22.0              4.255319\n",
              "Pennsylvania           110.0  20.0              3.868472\n",
              "New Jersey              56.0  19.0              3.675048\n",
              "Mississippi             23.0  16.0              3.094778\n",
              "Maryland                63.0  15.0              2.901354\n",
              "Oregon                  36.0  13.0              2.514507\n",
              "Virginia                49.0  11.0              2.127660\n",
              "Massachusetts           50.0  11.0              2.127660\n",
              "Alabama                 17.0   9.0              1.740812\n",
              "Indiana                 50.0   9.0              1.740812\n",
              "Utah                    16.0   6.0              1.160542\n",
              "Arizona                 14.0   6.0              1.160542\n",
              "New Hampshire            8.0   4.0              0.773694\n",
              "New Mexico              11.0   4.0              0.773694\n",
              "Minnesota               29.0   4.0              0.773694\n",
              "Delaware                 8.0   4.0              0.773694\n",
              "West Virginia            8.0   3.0              0.580271\n",
              "Connecticut              9.0   3.0              0.580271\n",
              "Kentucky                 4.0   3.0              0.580271\n",
              "South Carolina          15.0   3.0              0.580271\n",
              "Maine                    3.0   2.0              0.386847\n",
              "District Of Columbia    14.0   2.0              0.386847\n",
              "Kansas                   1.0   1.0              0.193424\n",
              "Vermont                  2.0   1.0              0.193424\n",
              "Missouri                 3.0   1.0              0.193424\n",
              "Louisiana               12.0   1.0              0.193424\n",
              "Montana                  1.0   0.0              0.000000\n",
              "Rhode Island             1.0   0.0              0.000000\n",
              "Ohio                     3.0   0.0              0.000000\n",
              "District of Columbia     1.0   0.0              0.000000\n",
              "North Carolina           3.0   0.0              0.000000\n",
              "New York                 6.0   0.0              0.000000\n",
              "Nevada                   1.0   0.0              0.000000\n",
              "Arkansas                 6.0   0.0              0.000000\n",
              "Iowa                     1.0   0.0              0.000000"
            ],
            "text/html": [
              "\n",
              "  <div id=\"df-1ebebff9-1e4c-477c-9d1c-3b1df6ef6bd7\">\n",
              "    <div class=\"colab-df-container\">\n",
              "      <div>\n",
              "<style scoped>\n",
              "    .dataframe tbody tr th:only-of-type {\n",
              "        vertical-align: middle;\n",
              "    }\n",
              "\n",
              "    .dataframe tbody tr th {\n",
              "        vertical-align: top;\n",
              "    }\n",
              "\n",
              "    .dataframe thead th {\n",
              "        text-align: right;\n",
              "    }\n",
              "</style>\n",
              "<table border=\"1\" class=\"dataframe\">\n",
              "  <thead>\n",
              "    <tr style=\"text-align: right;\">\n",
              "      <th>newstatus</th>\n",
              "      <th>Closed</th>\n",
              "      <th>Open</th>\n",
              "      <th>unresolved_cmp_prect</th>\n",
              "    </tr>\n",
              "    <tr>\n",
              "      <th>State</th>\n",
              "      <th></th>\n",
              "      <th></th>\n",
              "      <th></th>\n",
              "    </tr>\n",
              "  </thead>\n",
              "  <tbody>\n",
              "    <tr>\n",
              "      <th>Georgia</th>\n",
              "      <td>208.0</td>\n",
              "      <td>80.0</td>\n",
              "      <td>15.473888</td>\n",
              "    </tr>\n",
              "    <tr>\n",
              "      <th>California</th>\n",
              "      <td>159.0</td>\n",
              "      <td>61.0</td>\n",
              "      <td>11.798839</td>\n",
              "    </tr>\n",
              "    <tr>\n",
              "      <th>Tennessee</th>\n",
              "      <td>96.0</td>\n",
              "      <td>47.0</td>\n",
              "      <td>9.090909</td>\n",
              "    </tr>\n",
              "    <tr>\n",
              "      <th>Florida</th>\n",
              "      <td>201.0</td>\n",
              "      <td>39.0</td>\n",
              "      <td>7.543520</td>\n",
              "    </tr>\n",
              "    <tr>\n",
              "      <th>Illinois</th>\n",
              "      <td>135.0</td>\n",
              "      <td>29.0</td>\n",
              "      <td>5.609284</td>\n",
              "    </tr>\n",
              "    <tr>\n",
              "      <th>Washington</th>\n",
              "      <td>75.0</td>\n",
              "      <td>23.0</td>\n",
              "      <td>4.448743</td>\n",
              "    </tr>\n",
              "    <tr>\n",
              "      <th>Michigan</th>\n",
              "      <td>92.0</td>\n",
              "      <td>23.0</td>\n",
              "      <td>4.448743</td>\n",
              "    </tr>\n",
              "    <tr>\n",
              "      <th>Colorado</th>\n",
              "      <td>58.0</td>\n",
              "      <td>22.0</td>\n",
              "      <td>4.255319</td>\n",
              "    </tr>\n",
              "    <tr>\n",
              "      <th>Texas</th>\n",
              "      <td>49.0</td>\n",
              "      <td>22.0</td>\n",
              "      <td>4.255319</td>\n",
              "    </tr>\n",
              "    <tr>\n",
              "      <th>Pennsylvania</th>\n",
              "      <td>110.0</td>\n",
              "      <td>20.0</td>\n",
              "      <td>3.868472</td>\n",
              "    </tr>\n",
              "    <tr>\n",
              "      <th>New Jersey</th>\n",
              "      <td>56.0</td>\n",
              "      <td>19.0</td>\n",
              "      <td>3.675048</td>\n",
              "    </tr>\n",
              "    <tr>\n",
              "      <th>Mississippi</th>\n",
              "      <td>23.0</td>\n",
              "      <td>16.0</td>\n",
              "      <td>3.094778</td>\n",
              "    </tr>\n",
              "    <tr>\n",
              "      <th>Maryland</th>\n",
              "      <td>63.0</td>\n",
              "      <td>15.0</td>\n",
              "      <td>2.901354</td>\n",
              "    </tr>\n",
              "    <tr>\n",
              "      <th>Oregon</th>\n",
              "      <td>36.0</td>\n",
              "      <td>13.0</td>\n",
              "      <td>2.514507</td>\n",
              "    </tr>\n",
              "    <tr>\n",
              "      <th>Virginia</th>\n",
              "      <td>49.0</td>\n",
              "      <td>11.0</td>\n",
              "      <td>2.127660</td>\n",
              "    </tr>\n",
              "    <tr>\n",
              "      <th>Massachusetts</th>\n",
              "      <td>50.0</td>\n",
              "      <td>11.0</td>\n",
              "      <td>2.127660</td>\n",
              "    </tr>\n",
              "    <tr>\n",
              "      <th>Alabama</th>\n",
              "      <td>17.0</td>\n",
              "      <td>9.0</td>\n",
              "      <td>1.740812</td>\n",
              "    </tr>\n",
              "    <tr>\n",
              "      <th>Indiana</th>\n",
              "      <td>50.0</td>\n",
              "      <td>9.0</td>\n",
              "      <td>1.740812</td>\n",
              "    </tr>\n",
              "    <tr>\n",
              "      <th>Utah</th>\n",
              "      <td>16.0</td>\n",
              "      <td>6.0</td>\n",
              "      <td>1.160542</td>\n",
              "    </tr>\n",
              "    <tr>\n",
              "      <th>Arizona</th>\n",
              "      <td>14.0</td>\n",
              "      <td>6.0</td>\n",
              "      <td>1.160542</td>\n",
              "    </tr>\n",
              "    <tr>\n",
              "      <th>New Hampshire</th>\n",
              "      <td>8.0</td>\n",
              "      <td>4.0</td>\n",
              "      <td>0.773694</td>\n",
              "    </tr>\n",
              "    <tr>\n",
              "      <th>New Mexico</th>\n",
              "      <td>11.0</td>\n",
              "      <td>4.0</td>\n",
              "      <td>0.773694</td>\n",
              "    </tr>\n",
              "    <tr>\n",
              "      <th>Minnesota</th>\n",
              "      <td>29.0</td>\n",
              "      <td>4.0</td>\n",
              "      <td>0.773694</td>\n",
              "    </tr>\n",
              "    <tr>\n",
              "      <th>Delaware</th>\n",
              "      <td>8.0</td>\n",
              "      <td>4.0</td>\n",
              "      <td>0.773694</td>\n",
              "    </tr>\n",
              "    <tr>\n",
              "      <th>West Virginia</th>\n",
              "      <td>8.0</td>\n",
              "      <td>3.0</td>\n",
              "      <td>0.580271</td>\n",
              "    </tr>\n",
              "    <tr>\n",
              "      <th>Connecticut</th>\n",
              "      <td>9.0</td>\n",
              "      <td>3.0</td>\n",
              "      <td>0.580271</td>\n",
              "    </tr>\n",
              "    <tr>\n",
              "      <th>Kentucky</th>\n",
              "      <td>4.0</td>\n",
              "      <td>3.0</td>\n",
              "      <td>0.580271</td>\n",
              "    </tr>\n",
              "    <tr>\n",
              "      <th>South Carolina</th>\n",
              "      <td>15.0</td>\n",
              "      <td>3.0</td>\n",
              "      <td>0.580271</td>\n",
              "    </tr>\n",
              "    <tr>\n",
              "      <th>Maine</th>\n",
              "      <td>3.0</td>\n",
              "      <td>2.0</td>\n",
              "      <td>0.386847</td>\n",
              "    </tr>\n",
              "    <tr>\n",
              "      <th>District Of Columbia</th>\n",
              "      <td>14.0</td>\n",
              "      <td>2.0</td>\n",
              "      <td>0.386847</td>\n",
              "    </tr>\n",
              "    <tr>\n",
              "      <th>Kansas</th>\n",
              "      <td>1.0</td>\n",
              "      <td>1.0</td>\n",
              "      <td>0.193424</td>\n",
              "    </tr>\n",
              "    <tr>\n",
              "      <th>Vermont</th>\n",
              "      <td>2.0</td>\n",
              "      <td>1.0</td>\n",
              "      <td>0.193424</td>\n",
              "    </tr>\n",
              "    <tr>\n",
              "      <th>Missouri</th>\n",
              "      <td>3.0</td>\n",
              "      <td>1.0</td>\n",
              "      <td>0.193424</td>\n",
              "    </tr>\n",
              "    <tr>\n",
              "      <th>Louisiana</th>\n",
              "      <td>12.0</td>\n",
              "      <td>1.0</td>\n",
              "      <td>0.193424</td>\n",
              "    </tr>\n",
              "    <tr>\n",
              "      <th>Montana</th>\n",
              "      <td>1.0</td>\n",
              "      <td>0.0</td>\n",
              "      <td>0.000000</td>\n",
              "    </tr>\n",
              "    <tr>\n",
              "      <th>Rhode Island</th>\n",
              "      <td>1.0</td>\n",
              "      <td>0.0</td>\n",
              "      <td>0.000000</td>\n",
              "    </tr>\n",
              "    <tr>\n",
              "      <th>Ohio</th>\n",
              "      <td>3.0</td>\n",
              "      <td>0.0</td>\n",
              "      <td>0.000000</td>\n",
              "    </tr>\n",
              "    <tr>\n",
              "      <th>District of Columbia</th>\n",
              "      <td>1.0</td>\n",
              "      <td>0.0</td>\n",
              "      <td>0.000000</td>\n",
              "    </tr>\n",
              "    <tr>\n",
              "      <th>North Carolina</th>\n",
              "      <td>3.0</td>\n",
              "      <td>0.0</td>\n",
              "      <td>0.000000</td>\n",
              "    </tr>\n",
              "    <tr>\n",
              "      <th>New York</th>\n",
              "      <td>6.0</td>\n",
              "      <td>0.0</td>\n",
              "      <td>0.000000</td>\n",
              "    </tr>\n",
              "    <tr>\n",
              "      <th>Nevada</th>\n",
              "      <td>1.0</td>\n",
              "      <td>0.0</td>\n",
              "      <td>0.000000</td>\n",
              "    </tr>\n",
              "    <tr>\n",
              "      <th>Arkansas</th>\n",
              "      <td>6.0</td>\n",
              "      <td>0.0</td>\n",
              "      <td>0.000000</td>\n",
              "    </tr>\n",
              "    <tr>\n",
              "      <th>Iowa</th>\n",
              "      <td>1.0</td>\n",
              "      <td>0.0</td>\n",
              "      <td>0.000000</td>\n",
              "    </tr>\n",
              "  </tbody>\n",
              "</table>\n",
              "</div>\n",
              "      <button class=\"colab-df-convert\" onclick=\"convertToInteractive('df-1ebebff9-1e4c-477c-9d1c-3b1df6ef6bd7')\"\n",
              "              title=\"Convert this dataframe to an interactive table.\"\n",
              "              style=\"display:none;\">\n",
              "        \n",
              "  <svg xmlns=\"http://www.w3.org/2000/svg\" height=\"24px\"viewBox=\"0 0 24 24\"\n",
              "       width=\"24px\">\n",
              "    <path d=\"M0 0h24v24H0V0z\" fill=\"none\"/>\n",
              "    <path d=\"M18.56 5.44l.94 2.06.94-2.06 2.06-.94-2.06-.94-.94-2.06-.94 2.06-2.06.94zm-11 1L8.5 8.5l.94-2.06 2.06-.94-2.06-.94L8.5 2.5l-.94 2.06-2.06.94zm10 10l.94 2.06.94-2.06 2.06-.94-2.06-.94-.94-2.06-.94 2.06-2.06.94z\"/><path d=\"M17.41 7.96l-1.37-1.37c-.4-.4-.92-.59-1.43-.59-.52 0-1.04.2-1.43.59L10.3 9.45l-7.72 7.72c-.78.78-.78 2.05 0 2.83L4 21.41c.39.39.9.59 1.41.59.51 0 1.02-.2 1.41-.59l7.78-7.78 2.81-2.81c.8-.78.8-2.07 0-2.86zM5.41 20L4 18.59l7.72-7.72 1.47 1.35L5.41 20z\"/>\n",
              "  </svg>\n",
              "      </button>\n",
              "      \n",
              "  <style>\n",
              "    .colab-df-container {\n",
              "      display:flex;\n",
              "      flex-wrap:wrap;\n",
              "      gap: 12px;\n",
              "    }\n",
              "\n",
              "    .colab-df-convert {\n",
              "      background-color: #E8F0FE;\n",
              "      border: none;\n",
              "      border-radius: 50%;\n",
              "      cursor: pointer;\n",
              "      display: none;\n",
              "      fill: #1967D2;\n",
              "      height: 32px;\n",
              "      padding: 0 0 0 0;\n",
              "      width: 32px;\n",
              "    }\n",
              "\n",
              "    .colab-df-convert:hover {\n",
              "      background-color: #E2EBFA;\n",
              "      box-shadow: 0px 1px 2px rgba(60, 64, 67, 0.3), 0px 1px 3px 1px rgba(60, 64, 67, 0.15);\n",
              "      fill: #174EA6;\n",
              "    }\n",
              "\n",
              "    [theme=dark] .colab-df-convert {\n",
              "      background-color: #3B4455;\n",
              "      fill: #D2E3FC;\n",
              "    }\n",
              "\n",
              "    [theme=dark] .colab-df-convert:hover {\n",
              "      background-color: #434B5C;\n",
              "      box-shadow: 0px 1px 3px 1px rgba(0, 0, 0, 0.15);\n",
              "      filter: drop-shadow(0px 1px 2px rgba(0, 0, 0, 0.3));\n",
              "      fill: #FFFFFF;\n",
              "    }\n",
              "  </style>\n",
              "\n",
              "      <script>\n",
              "        const buttonEl =\n",
              "          document.querySelector('#df-1ebebff9-1e4c-477c-9d1c-3b1df6ef6bd7 button.colab-df-convert');\n",
              "        buttonEl.style.display =\n",
              "          google.colab.kernel.accessAllowed ? 'block' : 'none';\n",
              "\n",
              "        async function convertToInteractive(key) {\n",
              "          const element = document.querySelector('#df-1ebebff9-1e4c-477c-9d1c-3b1df6ef6bd7');\n",
              "          const dataTable =\n",
              "            await google.colab.kernel.invokeFunction('convertToInteractive',\n",
              "                                                     [key], {});\n",
              "          if (!dataTable) return;\n",
              "\n",
              "          const docLinkHtml = 'Like what you see? Visit the ' +\n",
              "            '<a target=\"_blank\" href=https://colab.research.google.com/notebooks/data_table.ipynb>data table notebook</a>'\n",
              "            + ' to learn more about interactive tables.';\n",
              "          element.innerHTML = '';\n",
              "          dataTable['output_type'] = 'display_data';\n",
              "          await google.colab.output.renderOutput(dataTable, element);\n",
              "          const docLink = document.createElement('div');\n",
              "          docLink.innerHTML = docLinkHtml;\n",
              "          element.appendChild(docLink);\n",
              "        }\n",
              "      </script>\n",
              "    </div>\n",
              "  </div>\n",
              "  "
            ]
          },
          "metadata": {},
          "execution_count": 66
        }
      ]
    },
    {
      "cell_type": "code",
      "source": [
        "unresolved_data.plot()"
      ],
      "metadata": {
        "colab": {
          "base_uri": "https://localhost:8080/",
          "height": 296
        },
        "id": "vvB4AgQd1N0w",
        "outputId": "508a3941-298e-4053-8c8a-8b7df233407b"
      },
      "execution_count": 67,
      "outputs": [
        {
          "output_type": "execute_result",
          "data": {
            "text/plain": [
              "<matplotlib.axes._subplots.AxesSubplot at 0x7f7d5a0419d0>"
            ]
          },
          "metadata": {},
          "execution_count": 67
        },
        {
          "output_type": "display_data",
          "data": {
            "text/plain": [
              "<Figure size 432x288 with 1 Axes>"
            ],
            "image/png": "[encoded data removed]"
          },
          "metadata": {
            "needs_background": "light"
          }
        }
      ]
    },
    {
      "cell_type": "code",
      "source": [
        "#Provide the percentage of complaints resolved till date, which were received through the Internet and customer"
      ],
      "metadata": {
        "id": "Xa7wGNIc1bxP"
      },
      "execution_count": 68,
      "outputs": []
    },
    {
      "cell_type": "code",
      "source": [
        "resolved_data=df.groupby(by=['Received Via','newstatus']).size().unstack()"
      ],
      "metadata": {
        "id": "PXcXPGbV1fC-"
      },
      "execution_count": 69,
      "outputs": []
    },
    {
      "cell_type": "code",
      "source": [
        "resolved_data['resolved']=resolved_data['Closed']/resolved_data['Closed'].sum()*100"
      ],
      "metadata": {
        "id": "2S66DdNa1hPd"
      },
      "execution_count": 70,
      "outputs": []
    },
    {
      "cell_type": "code",
      "source": [
        "resolved_data['resolved']"
      ],
      "metadata": {
        "colab": {
          "base_uri": "https://localhost:8080/"
        },
        "id": "sKz2j_Id1jbP",
        "outputId": "943ab08b-ea93-40dc-d029-9d5279ca5eca"
      },
      "execution_count": 71,
      "outputs": [
        {
          "output_type": "execute_result",
          "data": {
            "text/plain": [
              "Received Via\n",
              "Customer Care Call    50.615114\n",
              "Internet              49.384886\n",
              "Name: resolved, dtype: float64"
            ]
          },
          "metadata": {},
          "execution_count": 71
        }
      ]
    },
    {
      "cell_type": "code",
      "source": [
        "resolved_data.plot(kind='bar')"
      ],
      "metadata": {
        "colab": {
          "base_uri": "https://localhost:8080/",
          "height": 383
        },
        "id": "E2LJfPzP1lMq",
        "outputId": "eb2f9c20-8a66-4c59-f38d-e98d39d29ebd"
      },
      "execution_count": 72,
      "outputs": [
        {
          "output_type": "execute_result",
          "data": {
            "text/plain": [
              "<matplotlib.axes._subplots.AxesSubplot at 0x7f7d59fc7f90>"
            ]
          },
          "metadata": {},
          "execution_count": 72
        },
        {
          "output_type": "display_data",
          "data": {
            "text/plain": [
              "<Figure size 432x288 with 1 Axes>"
            ],
            "image/png": "[encoded data removed]"
          },
          "metadata": {
            "needs_background": "light"
          }
        }
      ]
    },
    {
      "cell_type": "code",
      "source": [],
      "metadata": {
        "id": "JHJqB2zj1pt8"
      },
      "execution_count": null,
      "outputs": []
    }
  ]
}